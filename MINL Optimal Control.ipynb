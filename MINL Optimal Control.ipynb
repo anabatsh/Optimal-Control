{
 "cells": [
  {
   "cell_type": "code",
   "execution_count": 1,
   "id": "3a30c968",
   "metadata": {},
   "outputs": [],
   "source": [
    "# !pip install gekko\n",
    "from gekko import GEKKO\n",
    "import numpy as np\n",
    "import matplotlib.pyplot as plt\n",
    "from scipy import optimize\n",
    "import json\n",
    "from lib import *"
   ]
  },
  {
   "cell_type": "code",
   "execution_count": 2,
   "id": "1a59c43f",
   "metadata": {},
   "outputs": [],
   "source": [
    "%load_ext autoreload\n",
    "%autoreload 2"
   ]
  },
  {
   "cell_type": "markdown",
   "id": "de537dbf",
   "metadata": {},
   "source": [
    "### Optimal Control\n",
    "\n",
    "* $x$ - state value\n",
    "* $u$ - control variable\n",
    "* $t$ - time variable $\\in [t_0, t_f] = N$ - time horizon\n",
    "\n",
    "**Continuous time**: \\\n",
    "Cost function: $F(\\cdot) = V_f(x(t_0), t_0, x(t_f), t_f) + \\int\\limits_{t_0}^{t_f} l(x(t), u(t), t) dt$\n",
    "* State equation: $\\dot{x} = f(x, u)$\n",
    "* Path constraints: $h(x(t), u(t), t) \\leq 0$\n",
    "* Final constraint: $h_f(x(t_f)) \\leq 0$\n",
    "\n",
    "\n",
    "**Discrete time**: (in this case we renote: $t \\in [t_0, t_f] \\mapsto k \\in [0, N]: x(t) = x(k)$)\\\n",
    "Cost function: $F(\\cdot) = V_f(x(0), x(N)) + \\sum\\limits_{k=0}^{N} l(x(k), u(k))$\n",
    "* State equation: $x^{+} = x(k+1) = f(x(k), u(k))$\n",
    "* Path constraints: $h(x(k), u(k)) \\leq 0$\n",
    "* Final constraint: $h_f(x(N)) \\leq 0$"
   ]
  },
  {
   "cell_type": "markdown",
   "id": "04e0bb23",
   "metadata": {},
   "source": [
    "### Mixed-Integer Optimal Control\n",
    "\n",
    "Suppose we have\n",
    "* $x \\in \\mathbb{R}^{n_x}$ - state variable\n",
    "* $u \\in \\mathbb{R}^{n_u}$ - continuous control variable\n",
    "* $i \\in \\mathbb{Z}^{n_i}$ - integer control variable inside a bounded convex polyhedron P\n",
    "* Objective function $F$ consists of a nonlinear least squares term $F1$ and nonlinear term $F_2$ - both are differentiable\n",
    "\n",
    "And lets note\n",
    "* $\\textbf{x} = (x(0), x(1), \\dots, x(N))$\n",
    "* $\\textbf{u} = (u(0), u(1), \\dots, u(N-1))$\n",
    "* $\\textbf{i} = (i(0), i(1), \\dots, i(N-1))$\n",
    "\n",
    "So we have **Mixed-Integer Optimal Control** problem ($\\star$):\n",
    "\n",
    "$\n",
    "\\min\\limits_{\\textbf{x}, \\textbf{u}, \\textbf{i}}\n",
    "{F(\\textbf{x}, \\textbf{u}, \\textbf{i})}, \\quad\n",
    "\\left\\{ \\begin{array}{l}\n",
    "x(0) = x_0 \\\\\n",
    "x(k+1) = f(x(k), u(k), i(k)) \\\\\n",
    "h(x(k), u(k), i(k)) \\leq 0, k < N \\\\\n",
    "h_f(x(N)) \\leq 0 \\\\\n",
    "\\textbf{i} \\in P \\\\\n",
    "\\textbf{i} \\in \\mathbb{Z}^{N \\cdot n_i}\n",
    "\\end{array} \\right.\n",
    "\\;\\; $ and \n",
    "$\n",
    "\\;\\; \n",
    "\\left\\{ \\begin{array}{l}\n",
    "F(\\textbf{x}, \\textbf{u}, \\textbf{i}) = \n",
    "V_f(x(N)) + \\sum\\limits_{k=0}^{N} l(x(k), u(k), i(k)) \\\\\n",
    "\\left. \\begin{array}{l}\n",
    "l(x, u, i) = \n",
    "\\frac{1}{2} \\|l_1(x, u, i)\\|_2^2 + l_2(x, u, i) \\\\\n",
    "V_f(x) = \n",
    "\\frac{1}{2} \\|V_1(x)\\|_2^2 + V_2(x)\n",
    "\\end{array} \\right\\}\n",
    "\\Rightarrow\n",
    "F(\\textbf{x}, \\textbf{u}, \\textbf{i}) = \n",
    "\\frac{1}{2} \\|F_1(x, u, i)\\|_2^2 + F_2(x, u, i) \\\\\n",
    "\\end{array} \\right.\n",
    "$"
   ]
  },
  {
   "cell_type": "markdown",
   "id": "d6b20f8f",
   "metadata": {},
   "source": [
    "---\n",
    "\n",
    "**Example**\n",
    "\n",
    "$\n",
    "\\begin{array}{rll}\n",
    "\\text{continuous time}: & \n",
    "    \\dot{x}(t) = f_c(x(t), i(t)) = x^3(t) - i(t) \\\\\n",
    "\\text{discrete time}: & \n",
    "    x^{+} = x(k+1) = f(x(k), i(k)) = \\text{Runge-Kutta-4}\\ (f_c)\n",
    "\\end{array}\n",
    "$\n",
    "\n",
    "$\n",
    "\\text{objetive function}:\n",
    "F(\\textbf{x}, \\textbf{i}) = \\frac{1}{2} \\sum\\limits^{N}_{k=0} (x(k) - x_{ref})^2\n",
    "$\n",
    "\n",
    "<!-- $\n",
    "P = \n",
    "\\left\\{ \\textbf{i} \\in [0, 1]^N \\mid \\begin{align} \n",
    "    & i(k) \\geq i(k-1) - i(k-2) \\\\\n",
    "    & i(k) \\geq i(k-1) - i(k-3) \n",
    "\\end{align} \\right\\}\n",
    "$ -->\n",
    "\n",
    "$\n",
    "\\textbf{MINLP}: \n",
    "\\min\\limits_{\\textbf{x}, \\textbf{i}}\n",
    "F(\\textbf{x}, \\textbf{i}), \\quad\n",
    "\\text{such that} \\;\\;\n",
    "\\left\\{ \\begin{array}{l}\n",
    "x(0) = x_0 \\\\\n",
    "x(k+1) = f(x(k), i(k)) \\\\\n",
    "\\textbf{i} \\in P \\cap \\mathbb{Z}^{N} \\\\\n",
    "\\end{array} \\right.\n",
    "$\n",
    "\n",
    "$N = 30, \\ x_0 = 0.8, \\ x_{ref} = 0.7$"
   ]
  },
  {
   "cell_type": "markdown",
   "id": "5413962f",
   "metadata": {},
   "source": [
    "---\n",
    "Firtsly, let's solve it ($\\star$) with existing MINL optimal control solver from GEKKO:"
   ]
  },
  {
   "cell_type": "code",
   "execution_count": 3,
   "id": "8afd1be7",
   "metadata": {},
   "outputs": [],
   "source": [
    "# Differential equation:\n",
    "def f_right(x, u, i):\n",
    "    return x ** 3 - i\n",
    "\n",
    "def f(x, u, i):\n",
    "    return x.dt() - f_right(x, u, i)\n",
    "\n",
    "# Path inequality constraints:\n",
    "def h(x, u, i):\n",
    "    return x - x\n",
    "\n",
    "# # Final inequality constraint:\n",
    "# def h_f(x):\n",
    "#     return x - x\n",
    "\n",
    "# # Path cost function:\n",
    "# def l(x, u):\n",
    "#     return x ** 2 \n",
    "\n",
    "# # Final cost function:\n",
    "# def V_f(x):\n",
    "#     return x ** 2\n",
    "\n",
    "# Objective function\n",
    "def F(x, u, i):\n",
    "    return x ** 2"
   ]
  },
  {
   "cell_type": "code",
   "execution_count": 9,
   "id": "31994be9",
   "metadata": {},
   "outputs": [],
   "source": [
    "N = 30\n",
    "time_step = 0.05\n",
    "x_0 = 0.8\n",
    "x_ref = 0.7"
   ]
  },
  {
   "cell_type": "code",
   "execution_count": 14,
   "id": "1a7194ca",
   "metadata": {},
   "outputs": [
    {
     "data": {
      "image/png": "[encoded data removed]",
      "text/plain": [
       "<Figure size 720x504 with 3 Axes>"
      ]
     },
     "metadata": {
      "needs_background": "light"
     },
     "output_type": "display_data"
    }
   ],
   "source": [
    "# history_minlp = run_optimal_control(x_0, x_ref, N, time_step, f, h, F, integer=True)\n",
    "show_results(history_minlp)"
   ]
  },
  {
   "cell_type": "markdown",
   "id": "31b716a5",
   "metadata": {},
   "source": [
    "Check that the requirement of the differential equation is met ($\\dot{x}[k] = f(x[k], u[k])$)"
   ]
  },
  {
   "cell_type": "code",
   "execution_count": 17,
   "id": "735040be",
   "metadata": {},
   "outputs": [
    {
     "data": {
      "image/png": "[encoded data removed]",
      "text/plain": [
       "<Figure size 1080x288 with 1 Axes>"
      ]
     },
     "metadata": {
      "needs_background": "light"
     },
     "output_type": "display_data"
    }
   ],
   "source": [
    "dt = time_step * 0.3\n",
    "dx = f_right(np.array(history_minlp['x']), \n",
    "             np.array(history_minlp['u']), \n",
    "             np.array(history_minlp['i'])) * dt\n",
    "t_x_dx = zip(history_minlp['time'], history_minlp['x'], dx)\n",
    "\n",
    "plt.figure(figsize=(15, 4))\n",
    "plt.plot(history_minlp['time'], history_minlp['x'], c='b', alpha=0.5, label='trajectory')\n",
    "plt.ylabel('State x')\n",
    "plt.xlabel('Time t')\n",
    "\n",
    "for t, x, dx in t_x_dx:\n",
    "    t_point = [t - dt, t + dt]\n",
    "    x_point = [x - dx, x + dx]\n",
    "    plt.plot(t_point, x_point, c='r')\n",
    "    plt.plot(t, x, '-o', c='r', markersize=5)\n",
    "plt.plot(t, x, '-o', c='r', markersize=5, label='dx')\n",
    "\n",
    "plt.legend()\n",
    "plt.show()"
   ]
  },
  {
   "cell_type": "markdown",
   "id": "b38943ed",
   "metadata": {},
   "source": [
    "As we can see, the requiremnt is met, so the solution is correct."
   ]
  },
  {
   "cell_type": "markdown",
   "id": "9e517f27",
   "metadata": {},
   "source": [
    "### Gauss-Newton algorithm\n",
    "\n",
    "Now we can try to solve it ($\\star$) with the Gauss-Newton algorithm:\n",
    "\n",
    "**S1**: solve it without integrality constraint $\\textbf{i} \\in \\mathbb{Z}^{n_i}$:\n",
    "\n",
    "$\n",
    "(\\textbf{x}^*, \\textbf{u}^*, \\textbf{i}^*) = \\arg\\min\\limits_{\\textbf{x, u, i}}{F(\\textbf{x, u, i})}, \\quad\n",
    "i \\in P\n",
    "$"
   ]
  },
  {
   "cell_type": "code",
   "execution_count": 18,
   "id": "4b35db59",
   "metadata": {},
   "outputs": [
    {
     "data": {
      "image/png": "[encoded data removed]",
      "text/plain": [
       "<Figure size 720x504 with 3 Axes>"
      ]
     },
     "metadata": {
      "needs_background": "light"
     },
     "output_type": "display_data"
    }
   ],
   "source": [
    "history_nlp = run_optimal_control(0.8, 0.7, 30, 0.05, f, h, F, integer=True)\n",
    "show_results(history_nlp)"
   ]
  },
  {
   "cell_type": "markdown",
   "id": "b43e286b",
   "metadata": {},
   "source": [
    "**S2**: approximate our continuous solution by an integer one\n",
    "\n",
    "Denote for a notation simplification:\n",
    "\n",
    "* $z = (\\textbf{x}, \\textbf{u}) \\in \\mathbb{R}^{n_z}$, where $n_z = (N+1) \\cdot n_x + N \\cdot n_u$ - continuous variable\n",
    "* $y = \\textbf{i} \\in \\mathbb{R}^{n_y}$, where $n_y = N \\cdot n_u$ - integer variable\n",
    "\n",
    "then we have **Mixed-Integer Non Linear Programming** problem ($\\star\\star$) instead of **Mixed-Integer Non Linear Optimal Control** one ($\\star$):\n",
    "\n",
    "$\n",
    "\\min\\limits_{y, z}{F(y, z)}, \\quad\n",
    "\\left\\{ \\begin{array}{l}\n",
    "G(y, z) = 0 \n",
    "\\;\\; \\text{instead of} \\;\n",
    "\\left\\{ \\begin{array}{l}\n",
    "x(0) = x_0 \\\\\n",
    "x(k+1) = f(x(k), u(k), i(k))) \n",
    "\\end{array} \\right. \\\\\n",
    "H(y, z) \\leq 0\n",
    "\\;\\; \\text{instead of} \\;\n",
    "\\left\\{ \\begin{array}{l}\n",
    "h(x(k), u(k), i(k)) \\leq 0, k < N \\\\\n",
    "h_f(x(N)) \\leq 0\n",
    "\\end{array} \\right. \\\\\n",
    "y \\in P \\cap \\mathbb{Z}^{n_y}\n",
    "\\end{array} \\right.\n",
    "\\;\\; $\n",
    "\n",
    "So, after the first step (S1) we have a continuous solution \n",
    "$(\\textbf{x}^*, \\textbf{u}^*, \\textbf{i}^*) = (z^*, y^*)$, where $y^* = \\textbf{i}^* \\in P$. And we want to approximate the continuous solution $y^*$ by the integer solution $y^{**}$:\n",
    "\n",
    "$\n",
    "y^{**} = \\arg\\min\\limits_{y}{d(y, y^*)}, \\quad\n",
    "y \\in P \\cup Z^{n_y}\n",
    "$\n",
    "\n",
    "**Gauss-Newton**:\n",
    "\n",
    "$d(y, y^*) = J_{GN}(y \\mid y^*, z^*) - J_{NLP}(y^*)$, where\n",
    "\n",
    "$J_{GN}(y \\mid y^*, z^*) = J_{QP}(y \\mid y^*, z^*, B_{GN}(y^*, z^*))$, where \n",
    "\n",
    "$\n",
    "J_{QP}(y \\mid y^*, z^*, B) =\n",
    "\\min\\limits_{z}{F_{QP}(y, z \\mid y^*, z^*, B)}, \\quad\n",
    "\\left\\{ \\begin{array}{l}\n",
    "G_L(y, z \\mid y^*, z^*) = 0 \\\\\n",
    "H_L(y, z \\mid y^*, z^*) \\leq 0 \\\\\n",
    "\\end{array} \\right.\n",
    "$ where\n",
    "\n",
    "* $\n",
    "    B_{GN}(y^*, z^*) = \n",
    "    \\frac{\\partial F_1}{\\partial (y, z)}(y^*, z^*)\n",
    "    (\\frac{\\partial F_1}{\\partial (y, z)}(y^*, z^*))^T\n",
    "  $\n",
    "\n",
    "* $\n",
    "    F_{QP}(y, z \\mid y^*, z^*, B) = \n",
    "    F_L(y, z \\mid y^*, z^*) + \n",
    "    \\frac{1}{2} \n",
    "    \\begin{bmatrix} y - y^* \\\\ z - z^* \\end{bmatrix}^T\n",
    "    B\n",
    "    \\begin{bmatrix} y - y^* \\\\ z - z^* \\end{bmatrix}\n",
    "  $\n",
    "* $\n",
    "   F_{L}(y, z \\mid y^*, z^*) = \n",
    "   F(y^*, z^*) + \\frac{\\partial F}{\\partial (y, z)}(y^*, z^*)\n",
    "   ((y, z) - (y^*, z^*))\n",
    "  $\n",
    "* $\n",
    "   G_{L}(y, z \\mid y^*, z^*) = \n",
    "   G(y^*, z^*) + \\frac{\\partial G}{\\partial (y, z)}(y^*, z^*)\n",
    "   ((y, z) - (y^*, z^*))\n",
    "  $\n",
    "* $\n",
    "   H_{L}(y, z \\mid y^*, z^*) = \n",
    "   H(y^*, z^*) + \\frac{\\partial H}{\\partial (y, z)}(y^*, z^*)\n",
    "   ((y, z) - (y^*, z^*))\n",
    "  $"
   ]
  },
  {
   "cell_type": "markdown",
   "id": "d1c782ef",
   "metadata": {},
   "source": [
    "But in practice of working with GEKKO it will be better to return to an Optimal Control formulation:\n",
    "\n",
    "$\n",
    "\\textbf{i}^{**} = \n",
    "\\arg\\min\\limits_{\\textbf{i}}{\n",
    "d(\\textbf{i}, \\textbf{i}^{*})\n",
    "}, \\quad\n",
    "\\left\\{ \\begin{array}{l}\n",
    "x(0) = x_0 \\\\\n",
    "x(k+1) = f_L(x(k), u(k), i(k)) \\\\\n",
    "h_L(x(k), u(k), i(k)) \\leq 0, k < N \\\\\n",
    "h_{fL}(x(N)) \\leq 0 \\\\\n",
    "\\textbf{i} \\in P \\cap \\mathbb{Z}^{N \\cdot n_i}\n",
    "\\end{array} \\right.\n",
    "$"
   ]
  },
  {
   "cell_type": "markdown",
   "id": "d6316309",
   "metadata": {},
   "source": [
    "<!-- Now our  problem just is a **MINL Programming** problem.\n",
    "\n",
    "\n",
    "Suppose we have \n",
    "\n",
    "* $z \\in \\mathbb{R}^{n_z}$ - continuous variable\n",
    "* $y \\in \\mathbb{R}^{n_y}$ - integer variable\n",
    "\n",
    "So we have :\n",
    "\n",
    "\n",
    "\n",
    "**Proposal three-step algorithm**:\n",
    "\n",
    "$\n",
    "J_{NLP}(y) = \\min\\limits_{z}{F(y, z)}, \\quad\n",
    "\\left\\{ \\begin{array}{l}\n",
    "G(y, z) = 0 \\\\\n",
    "H(y, z) \\leq 0 \\\\\n",
    "\\end{array} \\right.\n",
    "$\n",
    "\n",
    "**S1**:\n",
    "$\n",
    "(y^*, z^*) = \\arg\\min\\limits_{y}{J_{NLP}(y)}, \\quad\n",
    "y \\in P\n",
    "$\n",
    "\n",
    "**S2**:\n",
    "$\n",
    "y^{**} = \\arg\\min\\limits_{y}{d(y, y^*)}, \\quad\n",
    "y \\in P \\cup Z^{n_y}\n",
    "$\n",
    "\n",
    "**S3**:\n",
    "$\n",
    "z^{***} = \\arg J_{NLP}(y^{**}) = \\arg\\min\\limits_{z}{F(y^{**}, z)}, \\quad\n",
    "\\left\\{ \\begin{array}{l}\n",
    "G(y, z) = 0 \\\\\n",
    "H(y, z) \\leq 0 \\\\\n",
    "\\end{array} \\right.\n",
    "$\n",
    "\n",
    "$d(y, y^*) = \\|y - y^*\\|$ -->"
   ]
  },
  {
   "cell_type": "code",
   "execution_count": 26,
   "id": "17b03833",
   "metadata": {},
   "outputs": [
    {
     "name": "stdout",
     "output_type": "stream",
     "text": [
      "<class 'gekko.gk_variable.GKVariable'>\n",
      "<class 'gekko.gk_variable.GKVariable'>\n",
      "<class 'gekko.gk_variable.GKVariable'>\n",
      "<class 'gekko.gk_variable.GKVariable'>\n",
      "--------------------------------------------------\n",
      "<class 'gekko.gk_variable.GKVariable'>\n",
      "(($v2-((v2)^(3)))+((3)*(v1)))\n"
     ]
    },
    {
     "ename": "AttributeError",
     "evalue": "'numpy.ndarray' object has no attribute 'dt'",
     "output_type": "error",
     "traceback": [
      "\u001b[0;31m---------------------------------------------------------------------------\u001b[0m",
      "\u001b[0;31mAttributeError\u001b[0m                            Traceback (most recent call last)",
      "Input \u001b[0;32mIn [26]\u001b[0m, in \u001b[0;36m<cell line: 23>\u001b[0;34m()\u001b[0m\n\u001b[1;32m     17\u001b[0m     f_grad \u001b[38;5;241m=\u001b[39m np\u001b[38;5;241m.\u001b[39marray([f_grad_x, f_grad_u])\n\u001b[1;32m     19\u001b[0m \u001b[38;5;66;03m#     f_ = lambda x: f(*x)\u001b[39;00m\n\u001b[1;32m     20\u001b[0m \u001b[38;5;66;03m#     f_grad = optimize.approx_fprime((x0, u0), f_, 1e-6)\u001b[39;00m\n\u001b[1;32m     21\u001b[0m \u001b[38;5;66;03m#     delta = (np.array([x, u]) - np.array([x0, u0]))\u001b[39;00m\n\u001b[1;32m     22\u001b[0m \u001b[38;5;66;03m#     return f_(x0, u0) + f_grad @ delta\u001b[39;00m\n\u001b[0;32m---> 23\u001b[0m \u001b[43mlinear\u001b[49m\u001b[43m(\u001b[49m\u001b[43mG\u001b[49m\u001b[43m,\u001b[49m\u001b[43m \u001b[49m\u001b[43mx\u001b[49m\u001b[43m,\u001b[49m\u001b[43m \u001b[49m\u001b[43mu\u001b[49m\u001b[43m,\u001b[49m\u001b[43m \u001b[49m\u001b[43mx_ref\u001b[49m\u001b[43m,\u001b[49m\u001b[43m \u001b[49m\u001b[43mu_ref\u001b[49m\u001b[43m)\u001b[49m\n",
      "Input \u001b[0;32mIn [26]\u001b[0m, in \u001b[0;36mlinear\u001b[0;34m(f, x, u, x0, u0)\u001b[0m\n\u001b[1;32m     13\u001b[0m f_x \u001b[38;5;241m=\u001b[39m \u001b[38;5;28;01mlambda\u001b[39;00m t: f(t, u0)\n\u001b[1;32m     14\u001b[0m f_u \u001b[38;5;241m=\u001b[39m \u001b[38;5;28;01mlambda\u001b[39;00m t: f(x0, t)\n\u001b[0;32m---> 15\u001b[0m f_grad_x \u001b[38;5;241m=\u001b[39m \u001b[43mapprox_fprime\u001b[49m\u001b[43m(\u001b[49m\u001b[43mx0\u001b[49m\u001b[43m,\u001b[49m\u001b[43m \u001b[49m\u001b[43mf_x\u001b[49m\u001b[43m,\u001b[49m\u001b[43m \u001b[49m\u001b[38;5;241;43m1e-6\u001b[39;49m\u001b[43m)\u001b[49m\n\u001b[1;32m     16\u001b[0m f_grad_u \u001b[38;5;241m=\u001b[39m approx_fprime(u0, f_u, \u001b[38;5;241m1e-6\u001b[39m)\n\u001b[1;32m     17\u001b[0m f_grad \u001b[38;5;241m=\u001b[39m np\u001b[38;5;241m.\u001b[39marray([f_grad_x, f_grad_u])\n",
      "Input \u001b[0;32mIn [26]\u001b[0m, in \u001b[0;36mapprox_fprime\u001b[0;34m(xk, f, eps, *args)\u001b[0m\n\u001b[1;32m      4\u001b[0m f0 \u001b[38;5;241m=\u001b[39m f(xk, \u001b[38;5;241m*\u001b[39margs)\n\u001b[1;32m      5\u001b[0m \u001b[38;5;28mprint\u001b[39m(f0)\n\u001b[0;32m----> 6\u001b[0m \u001b[38;5;28;01mreturn\u001b[39;00m \u001b[43moptimize\u001b[49m\u001b[38;5;241;43m.\u001b[39;49m\u001b[43m_numdiff\u001b[49m\u001b[38;5;241;43m.\u001b[39;49m\u001b[43mapprox_derivative\u001b[49m\u001b[43m(\u001b[49m\u001b[43mf\u001b[49m\u001b[43m,\u001b[49m\u001b[43m \u001b[49m\u001b[43mxk\u001b[49m\u001b[43m,\u001b[49m\u001b[43m \u001b[49m\u001b[43mmethod\u001b[49m\u001b[38;5;241;43m=\u001b[39;49m\u001b[38;5;124;43m'\u001b[39;49m\u001b[38;5;124;43m2-point\u001b[39;49m\u001b[38;5;124;43m'\u001b[39;49m\u001b[43m,\u001b[49m\u001b[43m \u001b[49m\u001b[43mabs_step\u001b[49m\u001b[38;5;241;43m=\u001b[39;49m\u001b[43meps\u001b[49m\u001b[43m,\u001b[49m\u001b[43m \u001b[49m\u001b[43margs\u001b[49m\u001b[38;5;241;43m=\u001b[39;49m\u001b[43margs\u001b[49m\u001b[43m,\u001b[49m\u001b[43m \u001b[49m\u001b[43mf0\u001b[49m\u001b[38;5;241;43m=\u001b[39;49m\u001b[43mf0\u001b[49m\u001b[43m)\u001b[49m\n",
      "File \u001b[0;32m~/miniconda3/lib/python3.9/site-packages/scipy/optimize/_numdiff.py:486\u001b[0m, in \u001b[0;36mapprox_derivative\u001b[0;34m(fun, x0, method, rel_step, abs_step, f0, bounds, sparsity, as_linear_operator, args, kwargs)\u001b[0m\n\u001b[1;32m    483\u001b[0m     use_one_sided \u001b[38;5;241m=\u001b[39m \u001b[38;5;28;01mFalse\u001b[39;00m\n\u001b[1;32m    485\u001b[0m \u001b[38;5;28;01mif\u001b[39;00m sparsity \u001b[38;5;129;01mis\u001b[39;00m \u001b[38;5;28;01mNone\u001b[39;00m:\n\u001b[0;32m--> 486\u001b[0m     \u001b[38;5;28;01mreturn\u001b[39;00m \u001b[43m_dense_difference\u001b[49m\u001b[43m(\u001b[49m\u001b[43mfun_wrapped\u001b[49m\u001b[43m,\u001b[49m\u001b[43m \u001b[49m\u001b[43mx0\u001b[49m\u001b[43m,\u001b[49m\u001b[43m \u001b[49m\u001b[43mf0\u001b[49m\u001b[43m,\u001b[49m\u001b[43m \u001b[49m\u001b[43mh\u001b[49m\u001b[43m,\u001b[49m\n\u001b[1;32m    487\u001b[0m \u001b[43m                             \u001b[49m\u001b[43muse_one_sided\u001b[49m\u001b[43m,\u001b[49m\u001b[43m \u001b[49m\u001b[43mmethod\u001b[49m\u001b[43m)\u001b[49m\n\u001b[1;32m    488\u001b[0m \u001b[38;5;28;01melse\u001b[39;00m:\n\u001b[1;32m    489\u001b[0m     \u001b[38;5;28;01mif\u001b[39;00m \u001b[38;5;129;01mnot\u001b[39;00m issparse(sparsity) \u001b[38;5;129;01mand\u001b[39;00m \u001b[38;5;28mlen\u001b[39m(sparsity) \u001b[38;5;241m==\u001b[39m \u001b[38;5;241m2\u001b[39m:\n",
      "File \u001b[0;32m~/miniconda3/lib/python3.9/site-packages/scipy/optimize/_numdiff.py:557\u001b[0m, in \u001b[0;36m_dense_difference\u001b[0;34m(fun, x0, f0, h, use_one_sided, method)\u001b[0m\n\u001b[1;32m    555\u001b[0m     x \u001b[38;5;241m=\u001b[39m x0 \u001b[38;5;241m+\u001b[39m h_vecs[i]\n\u001b[1;32m    556\u001b[0m     dx \u001b[38;5;241m=\u001b[39m x[i] \u001b[38;5;241m-\u001b[39m x0[i]  \u001b[38;5;66;03m# Recompute dx as exactly representable number.\u001b[39;00m\n\u001b[0;32m--> 557\u001b[0m     df \u001b[38;5;241m=\u001b[39m \u001b[43mfun\u001b[49m\u001b[43m(\u001b[49m\u001b[43mx\u001b[49m\u001b[43m)\u001b[49m \u001b[38;5;241m-\u001b[39m f0\n\u001b[1;32m    558\u001b[0m \u001b[38;5;28;01melif\u001b[39;00m method \u001b[38;5;241m==\u001b[39m \u001b[38;5;124m'\u001b[39m\u001b[38;5;124m3-point\u001b[39m\u001b[38;5;124m'\u001b[39m \u001b[38;5;129;01mand\u001b[39;00m use_one_sided[i]:\n\u001b[1;32m    559\u001b[0m     x1 \u001b[38;5;241m=\u001b[39m x0 \u001b[38;5;241m+\u001b[39m h_vecs[i]\n",
      "File \u001b[0;32m~/miniconda3/lib/python3.9/site-packages/scipy/optimize/_numdiff.py:437\u001b[0m, in \u001b[0;36mapprox_derivative.<locals>.fun_wrapped\u001b[0;34m(x)\u001b[0m\n\u001b[1;32m    436\u001b[0m \u001b[38;5;28;01mdef\u001b[39;00m \u001b[38;5;21mfun_wrapped\u001b[39m(x):\n\u001b[0;32m--> 437\u001b[0m     f \u001b[38;5;241m=\u001b[39m np\u001b[38;5;241m.\u001b[39matleast_1d(\u001b[43mfun\u001b[49m\u001b[43m(\u001b[49m\u001b[43mx\u001b[49m\u001b[43m,\u001b[49m\u001b[43m \u001b[49m\u001b[38;5;241;43m*\u001b[39;49m\u001b[43margs\u001b[49m\u001b[43m,\u001b[49m\u001b[43m \u001b[49m\u001b[38;5;241;43m*\u001b[39;49m\u001b[38;5;241;43m*\u001b[39;49m\u001b[43mkwargs\u001b[49m\u001b[43m)\u001b[49m)\n\u001b[1;32m    438\u001b[0m     \u001b[38;5;28;01mif\u001b[39;00m f\u001b[38;5;241m.\u001b[39mndim \u001b[38;5;241m>\u001b[39m \u001b[38;5;241m1\u001b[39m:\n\u001b[1;32m    439\u001b[0m         \u001b[38;5;28;01mraise\u001b[39;00m \u001b[38;5;167;01mRuntimeError\u001b[39;00m(\u001b[38;5;124m\"\u001b[39m\u001b[38;5;124m`fun` return value has \u001b[39m\u001b[38;5;124m\"\u001b[39m\n\u001b[1;32m    440\u001b[0m                            \u001b[38;5;124m\"\u001b[39m\u001b[38;5;124mmore than 1 dimension.\u001b[39m\u001b[38;5;124m\"\u001b[39m)\n",
      "Input \u001b[0;32mIn [26]\u001b[0m, in \u001b[0;36mlinear.<locals>.<lambda>\u001b[0;34m(t)\u001b[0m\n\u001b[1;32m     11\u001b[0m \u001b[38;5;28mprint\u001b[39m(\u001b[38;5;28mtype\u001b[39m(x0))\n\u001b[1;32m     12\u001b[0m \u001b[38;5;28mprint\u001b[39m(\u001b[38;5;28mtype\u001b[39m(u0))\n\u001b[0;32m---> 13\u001b[0m f_x \u001b[38;5;241m=\u001b[39m \u001b[38;5;28;01mlambda\u001b[39;00m t: \u001b[43mf\u001b[49m\u001b[43m(\u001b[49m\u001b[43mt\u001b[49m\u001b[43m,\u001b[49m\u001b[43m \u001b[49m\u001b[43mu0\u001b[49m\u001b[43m)\u001b[49m\n\u001b[1;32m     14\u001b[0m f_u \u001b[38;5;241m=\u001b[39m \u001b[38;5;28;01mlambda\u001b[39;00m t: f(x0, t)\n\u001b[1;32m     15\u001b[0m f_grad_x \u001b[38;5;241m=\u001b[39m approx_fprime(x0, f_x, \u001b[38;5;241m1e-6\u001b[39m)\n",
      "Input \u001b[0;32mIn [3]\u001b[0m, in \u001b[0;36mG\u001b[0;34m(x, u)\u001b[0m\n\u001b[1;32m      2\u001b[0m \u001b[38;5;28;01mdef\u001b[39;00m \u001b[38;5;21mG\u001b[39m(x, u):\n\u001b[0;32m----> 3\u001b[0m     \u001b[38;5;28;01mreturn\u001b[39;00m \u001b[43mx\u001b[49m\u001b[38;5;241;43m.\u001b[39;49m\u001b[43mdt\u001b[49m() \u001b[38;5;241m-\u001b[39m x\u001b[38;5;241m*\u001b[39m\u001b[38;5;241m*\u001b[39m\u001b[38;5;241m3\u001b[39m \u001b[38;5;241m+\u001b[39m \u001b[38;5;241m3\u001b[39m\u001b[38;5;241m*\u001b[39mu\n",
      "\u001b[0;31mAttributeError\u001b[0m: 'numpy.ndarray' object has no attribute 'dt'"
     ]
    }
   ],
   "source": [
    "def approx_fprime(xk, f, eps, *args):\n",
    "    print('-'*50)\n",
    "    print(type(xk))\n",
    "    f0 = f(xk, *args)\n",
    "    print(f0)\n",
    "    return optimize._numdiff.approx_derivative(f, xk, method='2-point', abs_step=eps, args=args, f0=f0)\n",
    "\n",
    "def linear(f, x, u, x0, u0):\n",
    "    print(type(x))\n",
    "    print(type(u))\n",
    "    print(type(x0))\n",
    "    print(type(u0))\n",
    "    f_x = lambda t: f(t, u0)\n",
    "    f_u = lambda t: f(x0, t)\n",
    "    f_grad_x = approx_fprime(x0, f_x, 1e-6)\n",
    "    f_grad_u = approx_fprime(u0, f_u, 1e-6)\n",
    "    f_grad = np.array([f_grad_x, f_grad_u])\n",
    "    \n",
    "#     f_ = lambda x: f(*x)\n",
    "#     f_grad = optimize.approx_fprime((x0, u0), f_, 1e-6)\n",
    "#     delta = (np.array([x, u]) - np.array([x0, u0]))\n",
    "#     return f_(x0, u0) + f_grad @ delta\n",
    "linear(G, x, u, x_ref, u_ref)"
   ]
  },
  {
   "cell_type": "code",
   "execution_count": 141,
   "id": "67f19f2f",
   "metadata": {},
   "outputs": [],
   "source": [
    "z_nlp = history_nlp['x']\n",
    "y_nlp = history_nlp['u']\n",
    "obj_nlp = history_nlp['obj']"
   ]
  },
  {
   "cell_type": "code",
   "execution_count": 144,
   "id": "c266e201",
   "metadata": {},
   "outputs": [
    {
     "ename": "Exception",
     "evalue": "@error: Model Expression\n *** Error in syntax of function string: Missing operator\n \nPosition: 14                  \n 0.78099999657,0.11433333875,0.11433333319,0.11433333149,0.11433333334,0.11433333333,0.11433333334,0.11433333334,0.11433333333,0.11433333334,0.11433333334,0.11433333333,0.11433333334,0.11433333333,0.11433333333,0.11433333333,0.11433333334,0.11433333333,0.11433333333,0.11433333334,0.11433333333,0.11433333334,0.11433333333,0.11433333333,0.11433333334,0.11433333333,0.11433333333,0.11433333333,0.11433333381,0.11433333235\n              ?\n\n",
     "output_type": "error",
     "traceback": [
      "\u001b[0;31m---------------------------------------------------------------------------\u001b[0m",
      "\u001b[0;31mException\u001b[0m                                 Traceback (most recent call last)",
      "Input \u001b[0;32mIn [144]\u001b[0m, in \u001b[0;36m<cell line: 19>\u001b[0;34m()\u001b[0m\n\u001b[1;32m     16\u001b[0m m\u001b[38;5;241m.\u001b[39mObj(g(x, u))\n\u001b[1;32m     18\u001b[0m m\u001b[38;5;241m.\u001b[39mMinimize(f(u, u_ref) \u001b[38;5;241m-\u001b[39m obj_nlp)\n\u001b[0;32m---> 19\u001b[0m \u001b[43mm\u001b[49m\u001b[38;5;241;43m.\u001b[39;49m\u001b[43msolve\u001b[49m\u001b[43m(\u001b[49m\u001b[43mdisp\u001b[49m\u001b[38;5;241;43m=\u001b[39;49m\u001b[38;5;28;43;01mFalse\u001b[39;49;00m\u001b[43m)\u001b[49m\n\u001b[1;32m     20\u001b[0m \u001b[38;5;28mprint\u001b[39m(u\u001b[38;5;241m.\u001b[39mvalue)\n",
      "File \u001b[0;32m~/miniconda3/lib/python3.9/site-packages/gekko/gekko.py:2140\u001b[0m, in \u001b[0;36mGEKKO.solve\u001b[0;34m(self, disp, debug, GUI, **kwargs)\u001b[0m\n\u001b[1;32m   2138\u001b[0m         \u001b[38;5;28mprint\u001b[39m(\u001b[38;5;124m\"\u001b[39m\u001b[38;5;124mError:\u001b[39m\u001b[38;5;124m\"\u001b[39m, errs)\n\u001b[1;32m   2139\u001b[0m     \u001b[38;5;28;01mif\u001b[39;00m (debug \u001b[38;5;241m>\u001b[39m\u001b[38;5;241m=\u001b[39m \u001b[38;5;241m1\u001b[39m) \u001b[38;5;129;01mand\u001b[39;00m record_error:\n\u001b[0;32m-> 2140\u001b[0m         \u001b[38;5;28;01mraise\u001b[39;00m \u001b[38;5;167;01mException\u001b[39;00m(apm_error)\n\u001b[1;32m   2142\u001b[0m \u001b[38;5;28;01melse\u001b[39;00m: \u001b[38;5;66;03m#solve on APM server\u001b[39;00m\n\u001b[1;32m   2143\u001b[0m     \u001b[38;5;28;01mdef\u001b[39;00m \u001b[38;5;21msend_if_exists\u001b[39m(extension):\n",
      "\u001b[0;31mException\u001b[0m: @error: Model Expression\n *** Error in syntax of function string: Missing operator\n \nPosition: 14                  \n 0.78099999657,0.11433333875,0.11433333319,0.11433333149,0.11433333334,0.11433333333,0.11433333334,0.11433333334,0.11433333333,0.11433333334,0.11433333334,0.11433333333,0.11433333334,0.11433333333,0.11433333333,0.11433333333,0.11433333334,0.11433333333,0.11433333333,0.11433333334,0.11433333333,0.11433333334,0.11433333333,0.11433333333,0.11433333334,0.11433333333,0.11433333333,0.11433333333,0.11433333381,0.11433333235\n              ?\n\n"
     ]
    }
   ],
   "source": [
    "m = GEKKO(remote=False)\n",
    "m.options.IMODE=2\n",
    "\n",
    "u_ref = m.Var(u_nlp); m.fix(u_ref)\n",
    "x_ref = m.Var(x_nlp); m.fix(x_ref)\n",
    "\n",
    "u = m.Var(u_nlp, integer=True)\n",
    "x = m.Var(x_nlp)\n",
    "\n",
    "def g(x, u):\n",
    "    return x[1:] - x ** 3 - u[1:]\n",
    "\n",
    "def f(u, u_ref):\n",
    "    return (u - u_ref) ** 2\n",
    "\n",
    "m.Obj(g(x, u))\n",
    "\n",
    "m.Minimize(f(u, u_ref) - obj_nlp)\n",
    "m.solve(disp=False)\n",
    "print(u.value)"
   ]
  },
  {
   "cell_type": "code",
   "execution_count": 199,
   "id": "8e352b87",
   "metadata": {},
   "outputs": [],
   "source": [
    "# Linearization of the function f\n",
    "def linear(f, x, u, x0, u0):\n",
    "#     f_x = lambda x: f(x, u0)\n",
    "#     f_u = lambda u: f(x0, u)\n",
    "#     f_grad_x = optimize.approx_fprime(x0, f_x, 1e-6)\n",
    "#     f_grad_u = optimize.approx_fprime(u0, f_u, 1e-6)\n",
    "#     f_grad = np.array([f_grad_x, f_grad_u])\n",
    "    \n",
    "    f_ = lambda x: f(*x)\n",
    "    f_grad = optimize.approx_fprime((x0, u0), f_, 1e-6)\n",
    "    delta = (np.array([x, u]) - np.array([x0, u0]))\n",
    "    return f_(x0, u0) + f_grad @ delta\n",
    "\n",
    "# Quadratization of the function f\n",
    "def quadratic(f, x, u, x0, u0, B):\n",
    "    f_linear = linear(f, x, u, x0, u0)\n",
    "    delta = (np.array([x, u]) - np.array([x0, u0]))\n",
    "    return f_linear + 0.5 * delta.T @ B @ delta\n",
    "\n",
    "# Gaussian-Newton Hessian approximation \n",
    "def b_gn(f, x, u, x0, u0):\n",
    "    f_grad = optimize.approx_fprime((x0, u0), f, 1e-6)\n",
    "    return np.outer(f_grad, f_grad)\n",
    "\n",
    "# Positive semidefinition checking \n",
    "def pos_semidef(B):\n",
    "    return np.all(np.linalg.eigvals(B) >= 0)\n",
    "\n",
    "# Gauss-Newton method\n",
    "def gauss_newton(f, f1, x, u, x0, u0):\n",
    "    B_GN = b_gn(f1, x, u, x0, u0)\n",
    "    print(f'Pos.semidef.: {pos_semidef(B_GN)}')\n",
    "    return quadratic(f, x, u, x0, u0, B_GN)"
   ]
  },
  {
   "cell_type": "code",
   "execution_count": 200,
   "id": "8f934324",
   "metadata": {},
   "outputs": [],
   "source": [
    "G_L  = lambda x, u, x0, u0: linear(G, x, u, x0, u0)\n",
    "H_L  = lambda x, u, x0, u0: linear(H, x, u, x0, u0)\n",
    "F_QP = lambda x, u: gauss_newton(F, F1, x, u, x0, u0)\n",
    "F_GN = lambda x, u: F_QP(x, u) - obj_nlp"
   ]
  },
  {
   "cell_type": "code",
   "execution_count": 139,
   "id": "cd416d8b",
   "metadata": {},
   "outputs": [],
   "source": [
    "# m = GEKKO(remote=False)                  # Initialize gekko\n",
    "# m.options.SOLVER = 1 # if integer else 3   # Define the solver\n",
    "\n",
    "# # Continuous variables\n",
    "# x = [m.Var(value=x_i) for x_i in x_nlp]\n",
    "# x_nlp = [m.Const(value=x_i) for x_i in x_nlp]\n",
    "# u = [m.Var(value=u_i, integer=True, lb=0, ub=1) for u_i in u_nlp]\n",
    "# u_nlp = [m.Const(value=u_i) for u_i in u_nlp]\n",
    "\n",
    "# for i in range(N):\n",
    "#     print(x[i], u[i], x_nlp[i], u_nlp[i])\n",
    "#     m.Equation(G_L(x[i], u[i], x_nlp[i], u_nlp[i]) == 0) # G function\n",
    "#     m.Equation(H_L(x[i], u[i], x_nlp[i], u_nlp[i]) <= 0) # H function\n",
    "\n",
    "# # Objective\n",
    "# m.Obj(sum(F(x[i], u[i]) for i in range(N)))\n",
    "\n",
    "# # m.solve()#disp=False, debug=0)"
   ]
  },
  {
   "cell_type": "code",
   "execution_count": null,
   "id": "8a636f80",
   "metadata": {},
   "outputs": [],
   "source": []
  }
 ],
 "metadata": {
  "kernelspec": {
   "display_name": "Python 3 (ipykernel)",
   "language": "python",
   "name": "python3"
  },
  "language_info": {
   "codemirror_mode": {
    "name": "ipython",
    "version": 3
   },
   "file_extension": ".py",
   "mimetype": "text/x-python",
   "name": "python",
   "nbconvert_exporter": "python",
   "pygments_lexer": "ipython3",
   "version": "3.9.0"
  }
 },
 "nbformat": 4,
 "nbformat_minor": 5
}
