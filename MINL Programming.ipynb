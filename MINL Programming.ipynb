{
 "cells": [
  {
   "cell_type": "code",
   "execution_count": 3,
   "id": "69ffaecf",
   "metadata": {},
   "outputs": [],
   "source": [
    "# !pip install gekko\n",
    "from gekko import GEKKO\n",
    "import numpy as np\n",
    "import matplotlib.pyplot as plt\n",
    "from scipy import optimize\n",
    "import json"
   ]
  },
  {
   "cell_type": "code",
   "execution_count": 4,
   "id": "7c16a163",
   "metadata": {},
   "outputs": [],
   "source": [
    "def print_results(history):\n",
    "    \"\"\"\n",
    "    A function for results printing\n",
    "    \"\"\"\n",
    "    name = history['name']\n",
    "    print(f'Results for {name}')\n",
    "    check = lambda x: 'x' in x and x != 'x_final'\n",
    "    x_keys = [(item[0], float(item[1][-1])) for item in history.items() if check(item[0])]\n",
    "    for key, x in x_keys:\n",
    "        print(f'{key}: {x:.4f}')\n",
    "    obj = history['obj_final']\n",
    "    print(f'Objective {obj:.4f}')"
   ]
  },
  {
   "cell_type": "markdown",
   "id": "04d0fff0",
   "metadata": {},
   "source": [
    "Suppose we have \n",
    "\n",
    "* $z \\in \\mathbb{R}^{n_z}$ - continuous variable\n",
    "* $y \\in \\mathbb{R}^{n_y}$ - integer variable\n",
    "\n",
    "So we have **Mixed-Integer Non Linear Programming** problem:\n",
    "\n",
    "$\n",
    "\\min\\limits_{y, z}{F(y, z)}, \\quad\n",
    "\\left\\{ \\begin{array}{l}\n",
    "G(y, z) = 0 \\\\\n",
    "H(y, z) \\leq 0 \\\\\n",
    "y \\in P \\\\\n",
    "y \\in \\mathbb{Z}^{n_y}\n",
    "\\end{array} \\right.\n",
    "\\;\\; $ and \n",
    "$\n",
    "\\;\\; F(y, z) = \\frac{1}{2} \\|F_1(y, z)\\|_2^2 + F_2(y, z)\n",
    "$\n",
    "\n",
    "**Proposal three-step algorithm**:\n",
    "\n",
    "$\n",
    "J_{NLP}(y) = \\min\\limits_{z}{F(y, z)}, \\quad\n",
    "\\left\\{ \\begin{array}{l}\n",
    "G(y, z) = 0 \\\\\n",
    "H(y, z) \\leq 0 \\\\\n",
    "\\end{array} \\right.\n",
    "$\n",
    "\n",
    "**S1**:\n",
    "$\n",
    "(y^*, z^*) = \\arg\\min\\limits_{y}{J_{NLP}(y)}, \\quad\n",
    "y \\in P\n",
    "$\n",
    "\n",
    "**S2**:\n",
    "$\n",
    "y^{**} = \\arg\\min\\limits_{y}{d(y, y^*)}, \\quad\n",
    "y \\in P \\cup Z^{n_y}\n",
    "$\n",
    "\n",
    "**S3**:\n",
    "$\n",
    "z^{***} = \\arg J_{NLP}(y^{**}) = \\arg\\min\\limits_{z}{F(y^{**}, z)}, \\quad\n",
    "\\left\\{ \\begin{array}{l}\n",
    "G(y, z) = 0 \\\\\n",
    "H(y, z) \\leq 0 \\\\\n",
    "\\end{array} \\right.\n",
    "$\n",
    "\n",
    "$d(y, y^*) = \\|y - y^*\\|$"
   ]
  },
  {
   "cell_type": "markdown",
   "id": "5334e408",
   "metadata": {},
   "source": [
    "**Example**:\n",
    "\n",
    "* $x_1, x_2$ - continuous \n",
    "* $x_3, x_4$ - integer\n",
    "* $(x_1, x_2, x_3, x_4)_0 = (1, 5, 5, 1)$\n",
    "\n",
    "$\n",
    "\\min\\limits_{x_1, x_2, x_3, x_4}{x_1 x_4 (x_1 + x_2 + x_3) + x_3}, \\quad\n",
    "\\left\\{ \\begin{array}{l}\n",
    "x_1^2 + x_2^2 + x_3^2 + x_4^2 = 40 \\\\\n",
    "x_1 x_2 x_3 x_4 \\geq 25 \\\\\n",
    "1 \\leq x_1, x_2, x_3, x_4 \\leq 5 \\\\\n",
    "x_3, x_4 \\in \\mathbb{Z}\n",
    "\\end{array} \\right.\n",
    "$\n",
    "\n",
    "It means that:\n",
    "\n",
    "$F(\\overbrace{x_1, x_2}^{z}, \\overbrace{x_3, x_4}^{y}) = x_1 x_4 (x_1 + x_2 + x_3) + x_3 $\n",
    "\n",
    "$G(x_1, x_2, x_3, x_4) = x_1^2 + x_2^2 + x_3^2 + x_4^2 - 40 $\n",
    "\n",
    "$H(x_1, x_2, x_3, x_4) = 25 - x_1 x_2 x_3 x_4 $\n",
    "\n",
    "$P = \\{x_1, x_2, x_3, x_4 \\mid 1 \\leq x_1, x_2, x_3, x_4 \\leq 5 \\}$"
   ]
  },
  {
   "cell_type": "markdown",
   "id": "b82f0461",
   "metadata": {},
   "source": [
    "Let solve this by an existing MINLP-solver from GEKKO"
   ]
  },
  {
   "cell_type": "code",
   "execution_count": 4,
   "id": "ecdaf3f7",
   "metadata": {},
   "outputs": [],
   "source": [
    "# Constraints: equality \n",
    "def G(x1, x2, x3, x4):\n",
    "    return x1 ** 2 + x2 ** 2 + x3 ** 2 + x4 ** 2 - 40\n",
    "\n",
    "# Constraints: inequality\n",
    "def H(x1, x2, x3, x4):\n",
    "    return 25 - x1 * x2 * x3 * x4\n",
    "\n",
    "# Nonlinear least squares term F1\n",
    "def F1(x1, x2, x3, x4):\n",
    "    return x1 ** 2 + (x2 - 5) ** 2\n",
    "\n",
    "# Nonlinear term F2\n",
    "def F2(x1, x2, x3, x4):\n",
    "    return 0\n",
    "\n",
    "# Objective function\n",
    "def F(x1, x2, x3, x4):\n",
    "    return F1(x1, x2, x3, x4) + F2(x1, x2, x3, x4)"
   ]
  },
  {
   "cell_type": "code",
   "execution_count": 5,
   "id": "a3eca2e1",
   "metadata": {},
   "outputs": [],
   "source": [
    "def run(x, G, H, F, integer=False, const=False, name=''):\n",
    "    \n",
    "    history = {f'x{i}' : [] for i in range(1, 5)}\n",
    "    history['obj'] = []\n",
    "\n",
    "    max_iter = 0\n",
    "    while True:\n",
    "        m = GEKKO(remote=False)                  # Initialize gekko\n",
    "        m.options.SOLVER = 1 if integer else 3   # Define the solver\n",
    "\n",
    "#         # optional solver settings with APOPT\n",
    "#         m.solver_options = [\n",
    "#             'minlp_maximum_iterations 500',   # minlp maximum iterations\n",
    "#             'minlp_max_iter_with_int_sol 10', # minlp iterations with integer solution\n",
    "#             'minlp_as_nlp 0',                 # treat minlp as nlp \n",
    "#             'nlp_maximum_iterations 50',      # nlp sub-problem max iterations\n",
    "#             'minlp_branch_method 1',          # 1 = depth first, 2 = breadth first\n",
    "#             'minlp_integer_tol 0.05',         # maximum deviation from whole number\n",
    "#             'minlp_gap_tol 0.01'              # covergence tolerance\n",
    "#         ]\n",
    "\n",
    "        # Continuous variables\n",
    "        x1 = m.Var(value=x[0], lb=1, ub=5)\n",
    "        x2 = m.Var(value=x[1], lb=1, ub=5)\n",
    "\n",
    "        # Integer variables\n",
    "        x3 = m.Const(value=x[2]) if const else m.Var(value=x[2], lb=1, ub=5, integer=integer)\n",
    "        x4 = m.Const(value=x[3]) if const else m.Var(value=x[3], lb=1, ub=5, integer=integer)\n",
    "\n",
    "        # Equations\n",
    "        m.Equation(G(x1, x2, x3, x4) == 0) # G function\n",
    "        m.Equation(H(x1, x2, x3, x4) <= 0) # H function\n",
    "\n",
    "        # Objective\n",
    "        m.Obj(F(x1, x2, x3, x4))\n",
    "\n",
    "        m.options.MAX_ITER = max_iter\n",
    "        m.solve(disp=False,debug=0)\n",
    "\n",
    "        history['x1'].append(np.array(x1.value))\n",
    "        history['x2'].append(np.array(x2.value))\n",
    "        history['x3'].append(np.array(x3.value))\n",
    "        history['x4'].append(np.array(x4.value))\n",
    "        history['obj'].append(m.options.OBJFCNVAL)\n",
    "\n",
    "        if m.options.APPSTATUS==1:\n",
    "            break\n",
    "        else:\n",
    "            max_iter += 1\n",
    "\n",
    "    x = []\n",
    "    for key in history.keys():\n",
    "        history[key] = np.ravel(history[key])\n",
    "        x.append(history[key][-1])\n",
    "    history['x_final'] = x[:-1]\n",
    "    history['obj_final'] = x[-1]\n",
    "    history['name'] = name\n",
    "\n",
    "    return history"
   ]
  },
  {
   "cell_type": "code",
   "execution_count": 6,
   "id": "a3a78363",
   "metadata": {},
   "outputs": [
    {
     "name": "stdout",
     "output_type": "stream",
     "text": [
      "Results for MINLP\n",
      "x1: 1.0000\n",
      "x2: 4.5826\n",
      "x3: 3.0000\n",
      "x4: 3.0000\n",
      "Objective 1.1742\n"
     ]
    }
   ],
   "source": [
    "history_minlp = run((1, 5, 5, 1), G, H, F, True, False, 'MINLP')\n",
    "print_results(history_minlp)"
   ]
  },
  {
   "cell_type": "markdown",
   "id": "6f5b5c04",
   "metadata": {},
   "source": [
    "Now we divide the solving into steps:\n",
    "\n",
    "**S1** : solve the relaxed corresponding problem\n",
    "$\n",
    "(y^*, z^*) = \\arg\\min\\limits_{y}{J_{NLP}(y)}, \\quad\n",
    "y \\in P\n",
    "$"
   ]
  },
  {
   "cell_type": "code",
   "execution_count": 7,
   "id": "1862dabe",
   "metadata": {},
   "outputs": [
    {
     "name": "stdout",
     "output_type": "stream",
     "text": [
      "Results for NLP\n",
      "x1: 1.0000\n",
      "x2: 5.0000\n",
      "x3: 3.4495\n",
      "x4: 1.4495\n",
      "Objective 1.0000\n"
     ]
    }
   ],
   "source": [
    "history_nlp = run((1, 5, 5, 1), G, H, F, False, False, 'NLP')\n",
    "print_results(history_nlp)"
   ]
  },
  {
   "cell_type": "markdown",
   "id": "80d55563",
   "metadata": {},
   "source": [
    "**S2**: approximate our continuous solution by an integer one\n",
    "\n",
    "$\n",
    "y^{**} = \\arg\\min\\limits_{y}{d(y, y^*)}, \\quad\n",
    "y \\in P \\cup Z^{n_y}\n",
    "$\n",
    "\n",
    "**Gauss-Newton**:\n",
    "\n",
    "$d(y, y^*) = J_{GN}(y \\mid y^*, z^*) - J_{NLP}(y^*)$, where\n",
    "\n",
    "$J_{GN}(y \\mid y^*, z^*) = J_{QP}(y \\mid y^*, z^*, B_{GN}(y^*, z^*))$, where \n",
    "\n",
    "$\n",
    "J_{QP}(y \\mid y^*, z^*, B) =\n",
    "\\min\\limits_{z}{F_{QP}(y, z \\mid y^*, z^*, B)}, \\quad\n",
    "\\left\\{ \\begin{array}{l}\n",
    "G_L(y, z \\mid y^*, z^*) = 0 \\\\\n",
    "H_L(y, z \\mid y^*, z^*) \\leq 0 \\\\\n",
    "\\end{array} \\right.\n",
    "$ where\n",
    "\n",
    "* $\n",
    "    B_{GN}(y^*, z^*) = \n",
    "    \\frac{\\partial F_1}{\\partial (y, z)}(y^*, z^*)\n",
    "    (\\frac{\\partial F_1}{\\partial (y, z)}(y^*, z^*))^T\n",
    "  $\n",
    "\n",
    "* $\n",
    "    F_{QP}(y, z \\mid y^*, z^*, B) = \n",
    "    F_L(y, z \\mid y^*, z^*) + \n",
    "    \\frac{1}{2} \n",
    "    \\begin{bmatrix} y - y^* \\\\ z - z^* \\end{bmatrix}^T\n",
    "    B\n",
    "    \\begin{bmatrix} y - y^* \\\\ z - z^* \\end{bmatrix}\n",
    "  $\n",
    "* $\n",
    "   F_{L}(y, z \\mid y^*, z^*) = \n",
    "   F(y^*, z^*) + \\frac{\\partial F}{\\partial (y, z)}(y^*, z^*)\n",
    "   ((y, z) - (y^*, z^*))\n",
    "  $\n",
    "* $\n",
    "   G_{L}(y, z \\mid y^*, z^*) = \n",
    "   G(y^*, z^*) + \\frac{\\partial G}{\\partial (y, z)}(y^*, z^*)\n",
    "   ((y, z) - (y^*, z^*))\n",
    "  $\n",
    "* $\n",
    "   H_{L}(y, z \\mid y^*, z^*) = \n",
    "   H(y^*, z^*) + \\frac{\\partial H}{\\partial (y, z)}(y^*, z^*)\n",
    "   ((y, z) - (y^*, z^*))\n",
    "  $"
   ]
  },
  {
   "cell_type": "code",
   "execution_count": 8,
   "id": "039e9201",
   "metadata": {},
   "outputs": [],
   "source": [
    "# Linearization of the function f\n",
    "def linear(f, x, x0):\n",
    "    f_ = lambda x: f(*x)\n",
    "    f_grad = optimize.approx_fprime(x0, f_, 1e-6)\n",
    "    delta = (np.array(x) - np.array(x0))\n",
    "    return f_(x0) + f_grad @ delta\n",
    "\n",
    "# Quadratization of the function f\n",
    "def quadratic(f, x, x0, B):\n",
    "    f_linear = linear(f, x, x0)\n",
    "    delta = (np.array(x) - np.array(x0))\n",
    "    return f_linear + 0.5 * delta.T @ B @ delta\n",
    "\n",
    "# Gaussian-Newton Hessian approximation \n",
    "def b_gn(f, x, x0):\n",
    "    f_ = lambda x: f(*x)\n",
    "    f_grad = optimize.approx_fprime(x0, f_, 1e-6)\n",
    "    return np.outer(f_grad, f_grad)\n",
    "\n",
    "# Positive semidefinition checking \n",
    "def pos_semidef(B):\n",
    "    return np.all(np.linalg.eigvals(B) >= 0)\n",
    "\n",
    "# Gauss-Newton method\n",
    "def gauss_newton(f, f1, x, x0):\n",
    "    B_GN = b_gn(f1, x, x0)\n",
    "    print(f'Pos.semidef.: {pos_semidef(B_GN)}')\n",
    "    return quadratic(f, x, x0, B_GN)"
   ]
  },
  {
   "cell_type": "code",
   "execution_count": 9,
   "id": "7d7acf5d",
   "metadata": {},
   "outputs": [
    {
     "name": "stdout",
     "output_type": "stream",
     "text": [
      "Pos.semidef.: True\n",
      "Pos.semidef.: True\n",
      "Results for DIST\n",
      "x1: 1.0000\n",
      "x2: 4.4606\n",
      "x3: 4.0000\n",
      "x4: 2.0000\n",
      "Objective 1.0000\n"
     ]
    }
   ],
   "source": [
    "x_nlp = history_nlp['x_final']\n",
    "obj_nlp = history_nlp['obj_final']\n",
    "\n",
    "G_L = lambda *x: linear(G, x, x_nlp)\n",
    "H_L = lambda *x: linear(H, x, x_nlp)\n",
    "F_QP = lambda *x: gauss_newton(F, F1, x, x_nlp)\n",
    "F_GN = lambda *x: F_QP(x) - obj_nlp\n",
    "\n",
    "history_dist = run(x_nlp, G_L, H_L, F_QP, True, False, 'DIST')\n",
    "print_results(history_dist)"
   ]
  },
  {
   "cell_type": "markdown",
   "id": "40a8256f",
   "metadata": {},
   "source": [
    "**S3**: find the corresponding $z$\n",
    "\n",
    "$\n",
    "z^{***} = \\arg J_{NLP}(y^{**}) = \\arg\\min\\limits_{z}{F(y^{**}, z)}, \\quad\n",
    "\\left\\{ \\begin{array}{l}\n",
    "G(y, z) = 0 \\\\\n",
    "H(y, z) \\leq 0 \\\\\n",
    "\\end{array} \\right.\n",
    "$"
   ]
  },
  {
   "cell_type": "code",
   "execution_count": 10,
   "id": "ab07cc3d",
   "metadata": {},
   "outputs": [
    {
     "name": "stdout",
     "output_type": "stream",
     "text": [
      "Results for MIQP\n",
      "x1: 1.0000\n",
      "x2: 4.3589\n",
      "x3: 4.0000\n",
      "x4: 2.0000\n",
      "Objective 1.4110\n"
     ]
    }
   ],
   "source": [
    "x_dist = history_dist['x_final']\n",
    "\n",
    "history_miqp = run(x_dist, G, H, F, True, True, 'MIQP')\n",
    "print_results(history_miqp)"
   ]
  },
  {
   "cell_type": "markdown",
   "id": "a75b471f",
   "metadata": {},
   "source": [
    "Measure the results - the minlp solution and the corresponding miqp solution:"
   ]
  },
  {
   "cell_type": "code",
   "execution_count": 11,
   "id": "f18753d1",
   "metadata": {},
   "outputs": [
    {
     "name": "stdout",
     "output_type": "stream",
     "text": [
      "MIQP  solution: 1.17424\n",
      "MINLP solution: 1.41101\n",
      "Difference: -0.23677 - negative => MIQP is worse than MINLP\n"
     ]
    }
   ],
   "source": [
    "obj_minlp = history_minlp['obj_final']\n",
    "obj_miqp = history_miqp['obj_final']\n",
    "diff = obj_minlp - obj_miqp\n",
    "sign = 'positive' if diff > 0 else 'negative'\n",
    "resl = 'better' if diff > 0 else 'worse'\n",
    "\n",
    "print(f'MIQP  solution: {obj_minlp:.5f}')\n",
    "print(f'MINLP solution: {obj_miqp:.5f}')\n",
    "print(f'Difference: {diff:.5f} - {sign} => MIQP is {resl} than MINLP')"
   ]
  },
  {
   "cell_type": "code",
   "execution_count": 12,
   "id": "758aced3",
   "metadata": {},
   "outputs": [
    {
     "data": {
      "image/png": "[encoded data removed]",
      "text/plain": [
       "<Figure size 1008x576 with 4 Axes>"
      ]
     },
     "metadata": {
      "needs_background": "light"
     },
     "output_type": "display_data"
    }
   ],
   "source": [
    "fig, axes = plt.subplots(2, 2, figsize=(14, 8), sharex=True)\n",
    "\n",
    "for i in range(4):\n",
    "    xi = f'x{i+1}'\n",
    "    a, b = i // 2, i % 2\n",
    "    axes[a][b].set_title(xi)\n",
    "    axes[a][b].set_xlabel('Iteration')\n",
    "    axes[a][b].set_ylabel('Value')\n",
    "    \n",
    "    x_dist = len(history_nlp[xi]) - 1 + np.arange(len(history_dist[xi]))\n",
    "    x_miqp = x_dist[-1] + np.arange(len(history_miqp[xi]))\n",
    "\n",
    "    axes[a][b].plot(history_minlp[xi], '-o', c='blue', label='minlp')\n",
    "    axes[a][b].plot(history_nlp[xi], '-o', c='red', label='nlp')\n",
    "    axes[a][b].plot(x_dist, history_dist[xi], '-o', c='orange', label='dist')\n",
    "    axes[a][b].plot(x_miqp, history_miqp[xi], '-o', c='greenyellow', label='miqp')\n",
    "    \n",
    "    axes[a][b].legend()\n",
    "    \n",
    "plt.show()"
   ]
  },
  {
   "cell_type": "code",
   "execution_count": 26,
   "id": "6afe4b2f",
   "metadata": {},
   "outputs": [
    {
     "data": {
      "image/png": "[encoded data removed]",
      "text/plain": [
       "<Figure size 720x288 with 1 Axes>"
      ]
     },
     "metadata": {
      "needs_background": "light"
     },
     "output_type": "display_data"
    }
   ],
   "source": [
    "plt.figure(figsize=(10, 4))\n",
    "plt.title('Objective value')\n",
    "plt.xlabel('Iteration')\n",
    "plt.ylabel('Value')\n",
    "    \n",
    "x_dist = len(history_nlp['obj']) - 1 + np.arange(len(history_dist['obj']))\n",
    "x_miqp = x_dist[-1] + np.arange(len(history_miqp['obj']))\n",
    "\n",
    "plt.plot(np.array(history_minlp['obj'])+0.005, '-o', c='blue', label='minlp')\n",
    "plt.plot(np.array(history_nlp['obj'])-0.005, '-o', c='red', label='nlp')\n",
    "plt.plot(x_dist, history_dist['obj']-0.005, '-o', c='orange', label='dist')\n",
    "plt.vlines(x_dist[-1], \n",
    "           history_dist['obj'][-1]-0.005, history_miqp['obj'][0], \n",
    "           linestyles='--', color='yellow')\n",
    "plt.plot(x_miqp, history_miqp['obj'], '-o', c='greenyellow', label='miqp')\n",
    "    \n",
    "plt.legend()\n",
    "    \n",
    "plt.show()"
   ]
  },
  {
   "cell_type": "code",
   "execution_count": null,
   "id": "c33a2359",
   "metadata": {},
   "outputs": [],
   "source": []
  },
  {
   "cell_type": "code",
   "execution_count": null,
   "id": "8f7e0475",
   "metadata": {},
   "outputs": [],
   "source": []
  }
 ],
 "metadata": {
  "kernelspec": {
   "display_name": "Python 3 (ipykernel)",
   "language": "python",
   "name": "python3"
  },
  "language_info": {
   "codemirror_mode": {
    "name": "ipython",
    "version": 3
   },
   "file_extension": ".py",
   "mimetype": "text/x-python",
   "name": "python",
   "nbconvert_exporter": "python",
   "pygments_lexer": "ipython3",
   "version": "3.9.0"
  }
 },
 "nbformat": 4,
 "nbformat_minor": 5
}
