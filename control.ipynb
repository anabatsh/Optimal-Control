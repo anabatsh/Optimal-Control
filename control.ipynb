{
 "cells": [
  {
   "cell_type": "code",
   "execution_count": 1,
   "id": "c71697f3",
   "metadata": {},
   "outputs": [],
   "source": [
    "import numpy as np\n",
    "import control as ct\n",
    "import control.optimal as opt\n",
    "import matplotlib.pyplot as plt\n",
    "from scipy.integrate import RK45 as runge_kutta\n",
    "import scipy.optimize as sc_opt"
   ]
  },
  {
   "cell_type": "markdown",
   "id": "86ae03b4",
   "metadata": {},
   "source": [
    "Для описания задачи оптимального управления нам нужна система ввода/вывода, временной горизонт, функция стоимости и (необязательно) набор ограничений на состояние и/или вход либо вдоль траектории, либо в конечное время. Задачу оптимального управления можно решить с помощью функции `solve_ocp()`:\n",
    "\n",
    "$\\verb|res = obc.solve_ocp(sys, horizon, X0, cost, constraints)|$\n",
    "\n",
    "* sys - ввод системы с помощью класса `InputOutputSystemа`\n",
    "* horizon - список моментов времени\n",
    "* x0 - начальное положение\n",
    "* cost - функция стоимости \n",
    "* constraints - ограничения\n",
    "\n",
    "Функция cost имеет сигнатуру вызова `cost(t, x, u)` и должна возвращать стоимость в заданное время. Параметр terminal_cost можно использовать для указания функции стоимости для конечной точки траектории.\n",
    "\n",
    "Параметр ограничений constraints представляет собой список ограничений. Каждое ограничение - это кортеж одной из следующих форм:\n",
    "\n",
    "* $\\verb|(LinearConstraint, A, lb, ub) : lb <= A @ np.hstack([x, u]) <= ub|$\n",
    "* $\\verb|(NonlinearConstraint, f, lb, ub) : lb <= f(x, u) <= ub|$\n",
    "\n",
    "Параметр terminal_constraint можно использовать для указания ограничения, которое выполняется только в конечной точке траектории.\n",
    "\n",
    "Результаты:\n",
    "\n",
    "* res.success : True , если оптимизация была успешно решена\n",
    "* res.inputs : оптимальный ввод\n",
    "* res.states : траектория состояния (если return_x был True )\n",
    "* res.time : копия вектора временного горизонта"
   ]
  },
  {
   "cell_type": "markdown",
   "id": "abce7af4",
   "metadata": {},
   "source": [
    "#### Mixed-Integer Nonlinear Optimal Control\n",
    "\n",
    "$\n",
    "\\begin{array}{rll}\n",
    "\\text{continuous time}: & \n",
    "    \\dot{x}(t) = f_c(x(t), b(t)) = x^3(t) - b(t) \\ , & \n",
    "    t \\in \\mathbb{R}_{\\geq 0} \\\\\n",
    "\\text{discrete time}: & \n",
    "    x^{+} = f_d(x, b, k) = \\text{Runge-Kutta-4}\\ (f_c) \\ , & \n",
    "    k \\in \\mathbb{Z}_{\\geq 0}\n",
    "\\end{array}\n",
    "$\n",
    "\n",
    "$\n",
    "\\textbf{x} = (x(0), x(1), \\dots, x(N)) \\\\\n",
    "\\textbf{b} = (b(0), b(1), \\dots, b(N-1)) \\\\\n",
    "\\textbf{b} \\in \\mathbb{Z}^{N} \\cap \\mathbb{B}, \\; \\text{where} \\;\n",
    "\\mathbb{Z} = \\{0, 1\\}, \\;\n",
    "\\mathbb{B} = \n",
    "\\left\\{ b \\in [0, 1]^N \\mid \\begin{align} \n",
    "    & b(k) \\geq b(k-1) - b(k-2) \\\\\n",
    "    & b(k) \\geq b(k-1) - b(k-2) \n",
    "\\end{align} \\right\\}\n",
    "$\n",
    "\n",
    "$\n",
    "\\text{objetive function}:\n",
    "F(\\textbf{x}, \\textbf{b}) = \\frac{1}{2} \\sum\\limits^{N}_{k=0} (x(k) - x_{ref})^2\n",
    "$\n",
    "\n",
    "$\n",
    "\\textbf{MINLP}: \n",
    "\\min\\limits_{\\textbf{x}, \\textbf{b}}\n",
    "F(\\textbf{x}, \\textbf{b}) \\\\\n",
    "\\text{such that} \\\\\n",
    "x^{+} = f_d(x, b, k) \\\\\n",
    "x(0) = x_0 \\\\\n",
    "\\textbf{b} \\in \\mathbb{Z}^{N} \\cap \\mathbb{B} \\\\\n",
    "N = 30, \\ x_0 = 0.8, \\ x_{ref} = 0.7\n",
    "$"
   ]
  },
  {
   "cell_type": "code",
   "execution_count": 2,
   "id": "bb919555",
   "metadata": {},
   "outputs": [],
   "source": [
    "def runge_kutta(f, t, x, u):\n",
    "    h = 0.05\n",
    "    k1 = f(t, x, u)\n",
    "    k2 = f(t + 0.5 * h, x + 0.5 * k1 * h, u)\n",
    "    k3 = f(t + 0.5 * h, x + 0.5 * k2 * h, u)\n",
    "    k4 = f(t + h, x + k3 * h, u)\n",
    "    return x + (h / 6.) * (k1 + 2 * k2 + 2 * k3 + k4)"
   ]
  },
  {
   "cell_type": "code",
   "execution_count": 4,
   "id": "f8dea446",
   "metadata": {},
   "outputs": [],
   "source": [
    "# continuous time variant\n",
    "def f(t, x, u):\n",
    "    return x ** 3 - u\n",
    "\n",
    "# corresponding discrete time variant \n",
    "def f_update(t, x, u, params):\n",
    "    return runge_kutta(f, t, x, u)\n",
    "\n",
    "# output\n",
    "def f_output(t, x, u, params):\n",
    "    return x\n",
    "\n",
    "# define the system (ODE)\n",
    "sys = ct.NonlinearIOSystem(f_update, f_output, \n",
    "                           states=1, inputs=1, outputs=1, \n",
    "                           dt=True)\n",
    "\n",
    "# define the cost function (trajectory cost)\n",
    "cost = lambda x, u: ((x - x_ref) ** 2).item()\n",
    "\n",
    "# define the constraints\n",
    "constraints = [opt.input_range_constraint(sys, [0.0], [1.0])]\n",
    "# (sc_opt.NonlinearConstraint, lambda u: u , lb, ub)"
   ]
  },
  {
   "cell_type": "code",
   "execution_count": 5,
   "id": "1542b758",
   "metadata": {},
   "outputs": [],
   "source": [
    "x_0 = np.array([0.8])\n",
    "x_ref = np.array([0.7])\n",
    "N, h = 30, 0.05\n",
    "T = N * 0.05\n",
    "Q, R = np.array([1]), np.array([0])"
   ]
  },
  {
   "cell_type": "code",
   "execution_count": 7,
   "id": "78785867",
   "metadata": {},
   "outputs": [
    {
     "name": "stdout",
     "output_type": "stream",
     "text": [
      "Summary statistics:\n",
      "* Cost function calls: 898\n",
      "* Constraint calls: 959\n",
      "* System simulations: 1826\n",
      "* Final cost: 0.01797006666194928\n"
     ]
    }
   ],
   "source": [
    "# solve the system\n",
    "\n",
    "horizon = np.arange(0, N + 1) * h\n",
    "result = opt.solve_ocp(\n",
    "    sys, horizon, x_0, cost, constraints, initial_guess=[0.5],\n",
    "    terminal_cost=cost)"
   ]
  },
  {
   "cell_type": "code",
   "execution_count": 9,
   "id": "097d0278",
   "metadata": {},
   "outputs": [],
   "source": [
    "# simulate the system dynamics\n",
    "resp = ct.input_output_response(\n",
    "    sys, horizon, result.inputs, x_0,\n",
    "    t_eval=np.linspace(0, T, N))\n",
    "t, y, u = resp.time, resp.outputs, resp.inputs"
   ]
  },
  {
   "cell_type": "code",
   "execution_count": 17,
   "id": "3801a217",
   "metadata": {},
   "outputs": [
    {
     "data": {
      "image/png": "[encoded data removed]",
      "text/plain": [
       "<Figure size 576x432 with 2 Axes>"
      ]
     },
     "metadata": {
      "needs_background": "light"
     },
     "output_type": "display_data"
    }
   ],
   "source": [
    "plt.figure(figsize=(8, 6))\n",
    "\n",
    "plt.subplot(2, 1, 1)\n",
    "plt.plot(t, y)\n",
    "plt.hlines(x_ref, t[0], t[-1], linestyles='--', color='red')\n",
    "plt.ylim(0.68, None)\n",
    "plt.xlabel(\"t\")\n",
    "plt.ylabel(\"x\")\n",
    "\n",
    "plt.subplot(2, 1, 2)\n",
    "plt.plot(t, u, '-o')\n",
    "plt.ylim(-0.1, 1.1)\n",
    "plt.xlabel(\"t\")\n",
    "plt.ylabel(\"u\")\n",
    "\n",
    "plt.show()"
   ]
  },
  {
   "cell_type": "code",
   "execution_count": null,
   "id": "43c37926",
   "metadata": {},
   "outputs": [],
   "source": []
  }
 ],
 "metadata": {
  "kernelspec": {
   "display_name": "Python 3 (ipykernel)",
   "language": "python",
   "name": "python3"
  },
  "language_info": {
   "codemirror_mode": {
    "name": "ipython",
    "version": 3
   },
   "file_extension": ".py",
   "mimetype": "text/x-python",
   "name": "python",
   "nbconvert_exporter": "python",
   "pygments_lexer": "ipython3",
   "version": "3.9.0"
  }
 },
 "nbformat": 4,
 "nbformat_minor": 5
}
