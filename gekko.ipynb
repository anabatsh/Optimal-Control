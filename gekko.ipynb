{
 "cells": [
  {
   "cell_type": "code",
   "execution_count": 1,
   "id": "69ffaecf",
   "metadata": {},
   "outputs": [],
   "source": [
    "# !pip install gekko\n",
    "from gekko import GEKKO\n",
    "import numpy as np\n",
    "import matplotlib.pyplot as plt\n",
    "from scipy import optimize\n",
    "import json\n",
    "from collections.abc import Iterable"
   ]
  },
  {
   "cell_type": "code",
   "execution_count": 2,
   "id": "7c16a163",
   "metadata": {},
   "outputs": [],
   "source": [
    "def print_results(name, x, obj):\n",
    "    print(f'Results for {name}')\n",
    "    if isinstance(x, Iterable):\n",
    "        for i, x_i in enumerate(x):\n",
    "            print(f'x{i+1}: {x_i}')\n",
    "    else:\n",
    "        print(f'x: {x}')\n",
    "    print(f'Objective: {obj:.5f}')"
   ]
  },
  {
   "cell_type": "markdown",
   "id": "04d0fff0",
   "metadata": {},
   "source": [
    "Suppose we have \n",
    "\n",
    "* $z \\in \\mathbb{R}^{n_z}$ - continuous variable\n",
    "* $y \\in \\mathbb{R}^{n_y}$ - integer variable\n",
    "\n",
    "So we have **Mixed-Integer Non Linear Programming** problem:\n",
    "\n",
    "$\n",
    "\\min\\limits_{y, z}{F(y, z)}, \\quad\n",
    "\\left\\{ \\begin{array}{l}\n",
    "G(y, z) = 0 \\\\\n",
    "H(y, z) \\leq 0 \\\\\n",
    "y \\in P \\\\\n",
    "y \\in \\mathbb{Z}^{n_y}\n",
    "\\end{array} \\right.\n",
    "\\;\\; $ and \n",
    "$\n",
    "\\;\\; F(y, z) = \\frac{1}{2} \\|F_1(y, z)\\|_2^2 + F_2(y, z)\n",
    "$\n",
    "\n",
    "**Proposal three-step algorithm**:\n",
    "\n",
    "$\n",
    "J_{NLP}(y) = \\min\\limits_{z}{F(y, z)}, \\quad\n",
    "\\left\\{ \\begin{array}{l}\n",
    "G(y, z) = 0 \\\\\n",
    "H(y, z) \\leq 0 \\\\\n",
    "\\end{array} \\right.\n",
    "$\n",
    "\n",
    "**S1**:\n",
    "$\n",
    "(y^*, z^*) = \\arg\\min\\limits_{y}{J_{NLP}(y)}, \\quad\n",
    "y \\in P\n",
    "$\n",
    "\n",
    "**S2**:\n",
    "$\n",
    "y^{**} = \\arg\\min\\limits_{y}{d(y, y^*)}, \\quad\n",
    "y \\in P \\cup Z^{n_y}\n",
    "$\n",
    "\n",
    "**S3**:\n",
    "$\n",
    "z^{***} = \\arg J_{NLP}(y^{**}) = \\arg\\min\\limits_{z}{F(y^{**}, z)}, \\quad\n",
    "\\left\\{ \\begin{array}{l}\n",
    "G(y, z) = 0 \\\\\n",
    "H(y, z) \\leq 0 \\\\\n",
    "\\end{array} \\right.\n",
    "$\n",
    "\n",
    "$d(y, y^*) = \\|y - y^*\\|$"
   ]
  },
  {
   "cell_type": "markdown",
   "id": "5334e408",
   "metadata": {},
   "source": [
    "**Example**:\n",
    "\n",
    "* $x_1, x_2$ - continuous \n",
    "* $x_3, x_4$ - integer\n",
    "* $(x_1, x_2, x_3, x_4)_0 = (1, 5, 5, 1)$\n",
    "\n",
    "$\n",
    "\\min\\limits_{x_1, x_2, x_3, x_4}{x_1 x_4 (x_1 + x_2 + x_3) + x_3}, \\quad\n",
    "\\left\\{ \\begin{array}{l}\n",
    "x_1^2 + x_2^2 + x_3^2 + x_4^2 = 40 \\\\\n",
    "x_1 x_2 x_3 x_4 \\geq 25 \\\\\n",
    "1 \\leq x_1, x_2, x_3, x_4 \\leq 5 \\\\\n",
    "x_3, x_4 \\in \\mathbb{Z}\n",
    "\\end{array} \\right.\n",
    "$\n",
    "\n",
    "It means that:\\\n",
    "$F(\\overbrace{x_1, x_2}^{y}, \\overbrace{x_3, x_4}^{z}) = x_1^2 + x_2^2 + x_3^2 + x_4^2 $ \\\n",
    "$G(x_1, x_2, x_3, x_4) = x_1^3 - x_2 - x_3 + x_4^3 - 40 $ \\\n",
    "$H(x_1, x_2, x_3, x_4) = 25 - x_1 x_2 x_3 x_4 $ \\\n",
    "$P = \\{x_1, x_2, x_3, x_4 \\mid 1 \\leq x_1, x_2, x_3, x_4 \\leq 5 \\}$"
   ]
  },
  {
   "cell_type": "markdown",
   "id": "b82f0461",
   "metadata": {},
   "source": [
    "Let solve this by an existing MINLP-solver from GEKKO"
   ]
  },
  {
   "cell_type": "code",
   "execution_count": 3,
   "id": "ecdaf3f7",
   "metadata": {},
   "outputs": [],
   "source": [
    "# Constraints: equality \n",
    "def G(x1, x2, x3, x4):\n",
    "    return x1 ** 2 + x2 ** 2 + x3 ** 2 + x4 ** 2 - 40\n",
    "\n",
    "# Constraints: inequality\n",
    "def H(x1, x2, x3, x4):\n",
    "    return 25 - x1 * x2 * x3 * x4\n",
    "\n",
    "# Nonlinear least squares term F1\n",
    "def F1(x1, x2, x3, x4):\n",
    "    return x1 ** 2 + x2 ** 2 + x3 ** 2 + x4 ** 2\n",
    "\n",
    "# Nonlinear term F2\n",
    "def F2(x1, x2, x3, x4):\n",
    "    return 0\n",
    "\n",
    "# Objective function\n",
    "def F(x1, x2, x3, x4):\n",
    "    return F1(x1, x2, x3, x4) + F2(x1, x2, x3, x4)"
   ]
  },
  {
   "cell_type": "code",
   "execution_count": 4,
   "id": "a3eca2e1",
   "metadata": {},
   "outputs": [],
   "source": [
    "m = GEKKO()           # Initialize gekko\n",
    "m.options.SOLVER = 1  # APOPT is an MINLP solver\n",
    "\n",
    "# optional solver settings with APOPT\n",
    "m.solver_options = [\n",
    "    'minlp_maximum_iterations 500',   # minlp maximum iterations\n",
    "    'minlp_max_iter_with_int_sol 10', # minlp iterations with integer solution\n",
    "    'minlp_as_nlp 0',                 # treat minlp as nlp \n",
    "    'nlp_maximum_iterations 50',      # nlp sub-problem max iterations\n",
    "    'minlp_branch_method 1',          # 1 = depth first, 2 = breadth first\n",
    "    'minlp_integer_tol 0.05',         # maximum deviation from whole number\n",
    "    'minlp_gap_tol 0.01'              # covergence tolerance\n",
    "]\n",
    "\n",
    "# Continuous variables\n",
    "x1 = m.Var(value=1, lb=1, ub=5)\n",
    "x2 = m.Var(value=5, lb=1, ub=5)\n",
    "\n",
    "# Integer variables\n",
    "x3 = m.Var(value=5, lb=1, ub=5, integer=True)\n",
    "x4 = m.Var(value=1, lb=1, ub=5, integer=True)\n",
    "\n",
    "# Equations\n",
    "m.Equation(G(x1, x2, x3, x4) == 0) # G function\n",
    "m.Equation(H(x1, x2, x3, x4) <= 0) # H function\n",
    "\n",
    "# Objective\n",
    "m.Obj(F(x1, x2, x3, x4))\n",
    "m.solve(disp=False)"
   ]
  },
  {
   "cell_type": "code",
   "execution_count": 5,
   "id": "25a2a44d",
   "metadata": {},
   "outputs": [],
   "source": [
    "x1_minlp, x2_minlp, x3_minlp, x4_minlp = x1.value[0], x2.value[0], x3.value[0], x4.value[0]\n",
    "obj_minlp = m.options.objfcnval"
   ]
  },
  {
   "cell_type": "code",
   "execution_count": 6,
   "id": "1a14d8cc",
   "metadata": {},
   "outputs": [
    {
     "name": "stdout",
     "output_type": "stream",
     "text": [
      "Results for MINLP\n",
      "x1: 1.3591543781\n",
      "x2: 4.6015446325\n",
      "x3: 4.0\n",
      "x4: 1.0\n",
      "Objective: 40.02151\n"
     ]
    }
   ],
   "source": [
    "print_results('MINLP', (x1_minlp, x2_minlp, x3_minlp, x4_minlp), obj_minlp)"
   ]
  },
  {
   "cell_type": "markdown",
   "id": "6f5b5c04",
   "metadata": {},
   "source": [
    "Now we divide the solving into steps:\n",
    "\n",
    "**S1** : solve the relaxed corresponding problem\n",
    "$\n",
    "(y^*, z^*) = \\arg\\min\\limits_{y}{J_{NLP}(y)}, \\quad\n",
    "y \\in P\n",
    "$"
   ]
  },
  {
   "cell_type": "code",
   "execution_count": 7,
   "id": "07a8b64f",
   "metadata": {},
   "outputs": [],
   "source": [
    "m = GEKKO()           # Initialize gekko\n",
    "m.options.SOLVER = 3  # Best solver\n",
    "\n",
    "# Continuous variables\n",
    "x1 = m.Var(value=1, lb=1, ub=5)\n",
    "x2 = m.Var(value=5, lb=1, ub=5)\n",
    "\n",
    "# Integer variables\n",
    "x3 = m.Var(value=5, lb=1, ub=5)\n",
    "x4 = m.Var(value=1, lb=1, ub=5)\n",
    "\n",
    "# Equations\n",
    "m.Equation(G(x1, x2, x3, x4) == 0) # G function\n",
    "m.Equation(H(x1, x2, x3, x4) <= 0) # H function\n",
    "\n",
    "# Objective\n",
    "m.Obj(F(x1, x2, x3, x4))\n",
    "m.solve(disp=False)"
   ]
  },
  {
   "cell_type": "code",
   "execution_count": 8,
   "id": "bdaa9136",
   "metadata": {},
   "outputs": [],
   "source": [
    "x1_nlp, x2_nlp, x3_nlp, x4_nlp = x1.value[0], x2.value[0], x3.value[0], x4.value[0]\n",
    "obj_nlp = m.options.objfcnval"
   ]
  },
  {
   "cell_type": "code",
   "execution_count": 9,
   "id": "136f20a6",
   "metadata": {},
   "outputs": [
    {
     "name": "stdout",
     "output_type": "stream",
     "text": [
      "Results for NLP\n",
      "x1: 1.1589577016\n",
      "x2: 4.3193537764\n",
      "x3: 4.3193537764\n",
      "x4: 1.1589577016\n",
      "Objective: 40.00000\n"
     ]
    }
   ],
   "source": [
    "print_results('NLP', (x1_nlp, x2_nlp, x3_nlp, x4_nlp), obj_nlp)"
   ]
  },
  {
   "cell_type": "markdown",
   "id": "80d55563",
   "metadata": {},
   "source": [
    "**S2**: approximate our continuous solution by an integer one\n",
    "\n",
    "$\n",
    "y^{**} = \\arg\\min\\limits_{y}{d(y, y^*)}, \\quad\n",
    "y \\in P \\cup Z^{n_y}\n",
    "$\n",
    "\n",
    "**Gauss-Newton**:\n",
    "\n",
    "$d(y, y^*) = J_{GN}(y \\mid y^*, z^*) - J_{NLP}(y^*)$, where\n",
    "\n",
    "$J_{GN}(y \\mid y^*, z^*) = J_{QP}(y \\mid y^*, z^*, B_{GN}(y^*, z^*))$, where \n",
    "\n",
    "$\n",
    "J_{QP}(y \\mid y^*, z^*, B) =\n",
    "\\min\\limits_{z}{F_{QP}(y, z \\mid y^*, z^*, B)}, \\quad\n",
    "\\left\\{ \\begin{array}{l}\n",
    "G_L(y, z \\mid y^*, z^*) = 0 \\\\\n",
    "H_L(y, z \\mid y^*, z^*) \\leq 0 \\\\\n",
    "\\end{array} \\right.\n",
    "$ where\n",
    "\n",
    "* $\n",
    "    B_{GN(y^*, z^*)} = \n",
    "    \\frac{\\partial F_1}{\\partial (y, z)}(y^*, z^*)\n",
    "    (\\frac{\\partial F_1}{\\partial (y, z)}(y^*, z^*))^T\n",
    "  $\n",
    "\n",
    "* $\n",
    "    F_{QP}(y, z \\mid y^*, z^*, B) = \n",
    "    F_L(y, z \\mid y^*, z^*) + \n",
    "    \\frac{1}{2} \n",
    "    \\begin{bmatrix} y - y^* \\\\ z - z^* \\end{bmatrix}^T\n",
    "    B\n",
    "    \\begin{bmatrix} y - y^* \\\\ z - z^* \\end{bmatrix}\n",
    "  $\n",
    "* $\n",
    "   F_{L}(y, z \\mid y^*, z^*) = \n",
    "   F(y^*, z^*) + \\frac{\\partial F}{\\partial (y, z)}(y^*, z^*)\n",
    "   ((y, z) - (y^*, z^*))\n",
    "  $\n",
    "* $\n",
    "   G_{L}(y, z \\mid y^*, z^*) = \n",
    "   G(y^*, z^*) + \\frac{\\partial G}{\\partial (y, z)}(y^*, z^*)\n",
    "   ((y, z) - (y^*, z^*))\n",
    "  $\n",
    "* $\n",
    "   H_{L}(y, z \\mid y^*, z^*) = \n",
    "   H(y^*, z^*) + \\frac{\\partial H}{\\partial (y, z)}(y^*, z^*)\n",
    "   ((y, z) - (y^*, z^*))\n",
    "  $"
   ]
  },
  {
   "cell_type": "code",
   "execution_count": 10,
   "id": "039e9201",
   "metadata": {},
   "outputs": [],
   "source": [
    "# Linearization of the function f\n",
    "def linear(f, x, x0):\n",
    "    f_ = lambda x: f(*x)\n",
    "    f_grad = optimize.approx_fprime(x0, f_, 1e-6)\n",
    "    delta = (np.array(x) - np.array(x0))\n",
    "    return f_(x0) + f_grad @ delta\n",
    "\n",
    "# Quadratization of the function f\n",
    "def quadratic(f, x, x0, B):\n",
    "    f_linear = linear(f, x, x0)\n",
    "    delta = (np.array(x) - np.array(x0))\n",
    "    return f_linear + 0.5 * delta.T @ B @ delta\n",
    "\n",
    "# Gaussian-Newton Hessian approximation \n",
    "def b_gn(f, x, x0):\n",
    "    f_ = lambda x: f(*x)\n",
    "    f_grad = optimize.approx_fprime(x0, f_, 1e-6)\n",
    "    return np.outer(f_grad, f_grad)\n",
    "\n",
    "# Positive semidefinition checking \n",
    "def pos_semidef(B):\n",
    "    return np.all(np.linalg.eigvals(B) >= 0)\n",
    "\n",
    "# Gauss-Newton method\n",
    "def gauss_newton(f, f1, x, x0):\n",
    "    B_GN = b_gn(f1, x, x0)\n",
    "    print(f'Pos.semidef.: {pos_semidef(B_GN)}')\n",
    "    return quadratic(f, x, x0, B_GN)"
   ]
  },
  {
   "cell_type": "code",
   "execution_count": 11,
   "id": "8f42fa31",
   "metadata": {},
   "outputs": [
    {
     "name": "stdout",
     "output_type": "stream",
     "text": [
      "Pos.semidef.: True\n"
     ]
    }
   ],
   "source": [
    "m = GEKKO()          # Initialize gekko\n",
    "m.options.SOLVER = 1 # APOPT is an MINLP solver\n",
    "\n",
    "# Continuous variables\n",
    "x1 = m.Const(value=x1_nlp)\n",
    "x2 = m.Const(value=x2_nlp)\n",
    "\n",
    "# Integer variables\n",
    "x3 = m.Var(value=x3_nlp, lb=1, ub=5, integer=True)\n",
    "x4 = m.Var(value=x4_nlp, lb=1, ub=5, integer=True)\n",
    "\n",
    "# Equations\n",
    "G_L = lambda x1, x2, x3, x4: linear(G, (x1, x2, x3, x4), (x1_nlp, x2_nlp, x3_nlp, x4_nlp))\n",
    "H_L = lambda x1, x2, x3, x4: linear(H, (x1, x2, x3, x4), (x1_nlp, x2_nlp, x3_nlp, x4_nlp))\n",
    "m.Equation(G(x1, x2, x3, x4) == 0) # G_L function\n",
    "m.Equation(H(x1, x2, x3, x4) <= 0) # H_L function\n",
    "\n",
    "# Objective\n",
    "F_QP = lambda x1, x2, x3, x4: gauss_newton(F, F1, (x1, x2, x3, x4), (x1_nlp, x2_nlp, x3_nlp, x4_nlp))\n",
    "F_GN = lambda x1, x2, x3, x4: F_QP(x1, x2, x3, x4) - obj_nlp\n",
    "m.Obj(F_GN(x1, x2, x3, x4))\n",
    "m.solve(disp=False)"
   ]
  },
  {
   "cell_type": "markdown",
   "id": "b225b001",
   "metadata": {},
   "source": [
    "It doesn't work."
   ]
  },
  {
   "cell_type": "markdown",
   "id": "47afb9e6",
   "metadata": {},
   "source": [
    "**L2-norm**: \n",
    "$d(y, y^*) = \\|y - y^*\\|_2$"
   ]
  },
  {
   "cell_type": "code",
   "execution_count": 12,
   "id": "ce3c202f",
   "metadata": {},
   "outputs": [],
   "source": [
    "# m = GEKKO()          # Initialize gekko\n",
    "# m.options.SOLVER = 1 # APOPT is an MINLP solver\n",
    "\n",
    "# # Continuous variables\n",
    "# x1 = m.Const(value=x1_nlp)\n",
    "# x2 = m.Const(value=x2_nlp)\n",
    "\n",
    "# # Integer variables\n",
    "# x3 = m.Var(value=x3_nlp, lb=1, ub=5, integer=True)\n",
    "# x4 = m.Var(value=x4_nlp, lb=1, ub=5, integer=True)\n",
    "\n",
    "# # Objective distance (simple L2-norm) function\n",
    "# def dist(x1, x2, x3, x4):\n",
    "#     return (x3 - x3_nlp) ** 2 + (x3 - x3_nlp) ** 2\n",
    "\n",
    "# m.Obj(dist(x1, x2, x3, x4))\n",
    "# m.solve(disp=False)"
   ]
  },
  {
   "cell_type": "code",
   "execution_count": 13,
   "id": "17ba8b66",
   "metadata": {},
   "outputs": [],
   "source": [
    "x1_dist, x2_dist, x3_dist, x4_dist = x1.value, x2.value, x3.value[0], x4.value[0]\n",
    "obj_dist = m.options.objfcnval"
   ]
  },
  {
   "cell_type": "code",
   "execution_count": 14,
   "id": "e47ad781",
   "metadata": {},
   "outputs": [
    {
     "name": "stdout",
     "output_type": "stream",
     "text": [
      "Results for DIST\n",
      "x1: 1.1589577016\n",
      "x2: 4.3193537764\n",
      "x3: 4.0\n",
      "x4: 2.0\n",
      "Objective: -0.48182\n"
     ]
    }
   ],
   "source": [
    "print_results('DIST', (x1_dist, x2_dist, x3_dist, x4_dist), obj_dist)"
   ]
  },
  {
   "cell_type": "markdown",
   "id": "40a8256f",
   "metadata": {},
   "source": [
    "**S3**: find the corresponding $z$\n",
    "\n",
    "$\n",
    "z^{***} = \\arg J_{NLP}(y^{**}) = \\arg\\min\\limits_{z}{F(y^{**}, z)}, \\quad\n",
    "\\left\\{ \\begin{array}{l}\n",
    "G(y, z) = 0 \\\\\n",
    "H(y, z) \\leq 0 \\\\\n",
    "\\end{array} \\right.\n",
    "$"
   ]
  },
  {
   "cell_type": "code",
   "execution_count": 15,
   "id": "e1a68abd",
   "metadata": {},
   "outputs": [],
   "source": [
    "m = GEKKO()           # Initialize gekko\n",
    "m.options.SOLVER = 3  # Best solver\n",
    "\n",
    "# Continuous variables\n",
    "x1 = m.Var(value=x1_nlp, lb=1, ub=5)\n",
    "x2 = m.Var(value=x2_nlp, lb=1, ub=5)\n",
    "\n",
    "# Integer variables\n",
    "x3 = m.Const(value=x3_dist)\n",
    "x4 = m.Const(value=x4_dist)\n",
    "\n",
    "# Equations\n",
    "m.Equation(G(x1, x2, x3, x4) == 0) # G function\n",
    "m.Equation(H(x1, x2, x3, x4) <= 0) # H function\n",
    "\n",
    "# Objective\n",
    "m.Obj(F(x1, x2, x3, x4))\n",
    "m.solve(disp=False)"
   ]
  },
  {
   "cell_type": "code",
   "execution_count": 16,
   "id": "e856ebbe",
   "metadata": {},
   "outputs": [],
   "source": [
    "x1_miqp, x2_miqp, x3_miqp, x4_miqp = x1.value[0], x2.value[0], x3.value, x4.value\n",
    "obj_miqp = m.options.objfcnval"
   ]
  },
  {
   "cell_type": "code",
   "execution_count": 17,
   "id": "38faf881",
   "metadata": {},
   "outputs": [
    {
     "name": "stdout",
     "output_type": "stream",
     "text": [
      "Results for MIQP\n",
      "x1: 1.6997261688\n",
      "x2: 4.1365361154\n",
      "x3: 4.0\n",
      "x4: 2.0\n",
      "Objective: 40.00000\n"
     ]
    }
   ],
   "source": [
    "print_results('MIQP', (x1_miqp, x2_miqp, x3_miqp, x4_miqp), obj_miqp)"
   ]
  },
  {
   "cell_type": "markdown",
   "id": "a75b471f",
   "metadata": {},
   "source": [
    "Measure the results - the minlp solution and the corresponding miqp solution:"
   ]
  },
  {
   "cell_type": "code",
   "execution_count": 18,
   "id": "f18753d1",
   "metadata": {},
   "outputs": [
    {
     "name": "stdout",
     "output_type": "stream",
     "text": [
      "Results for MINLP - MIQP\n",
      "x1: -0.3405717907000001\n",
      "x2: 0.46500851709999935\n",
      "x3: 0.0\n",
      "x4: -1.0\n",
      "Objective: 0.02151\n"
     ]
    }
   ],
   "source": [
    "print_results('MINLP - MIQP', \n",
    "              (x1_minlp - x1_miqp, \n",
    "              x2_minlp - x2_miqp, \n",
    "              x3_minlp - x3_miqp, \n",
    "              x4_minlp - x4_miqp), \n",
    "              obj_minlp - obj_miqp)"
   ]
  },
  {
   "cell_type": "markdown",
   "id": "7bd8b10c",
   "metadata": {},
   "source": [
    "### More complex case"
   ]
  },
  {
   "cell_type": "code",
   "execution_count": 19,
   "id": "b60bcb50",
   "metadata": {},
   "outputs": [],
   "source": [
    "# # Функция для отрисовки графиков\n",
    "\n",
    "# def show_results(results, mv_name, cv_name): \n",
    "#     time = results['time']\n",
    "#     x = results[mv_name]\n",
    "#     x_ref = results[mv_name+'.tr']\n",
    "#     u = results[cv_name]\n",
    "#     obj = results['obj']\n",
    "\n",
    "#     plt.figure(figsize=(10, 5))\n",
    "#     plt.suptitle(f'Objective value: {obj:.4f}')\n",
    "    \n",
    "#     plt.subplot(2, 1, 1)\n",
    "#     plt.step(time, u, 'o-', \n",
    "#              markersize=5, linewidth=1.4,\n",
    "#              where='post')\n",
    "#     plt.ylabel('Control u')\n",
    "\n",
    "#     plt.subplot(2, 1, 2)\n",
    "#     plt.plot(time, x_ref, 'k-', \n",
    "#              label='Reference trajectory')\n",
    "#     plt.plot(time, x, '-o', c='r',\n",
    "#              markersize=5, linewidth=1,\n",
    "#              label='Predicted trajectory')\n",
    "#     plt.legend(loc=1)\n",
    "#     plt.ylabel('State x')\n",
    "#     plt.xlabel('Time')\n",
    "\n",
    "#     plt.show()"
   ]
  },
  {
   "cell_type": "markdown",
   "id": "69182d8a",
   "metadata": {},
   "source": [
    "$\n",
    "\\begin{array}{rll}\n",
    "\\text{continuous time}: & \n",
    "    \\dot{x}(t) = f_c(x(t), b(t)) = x^3(t) - b(t) \\ , & \n",
    "    t \\in \\mathbb{R}_{\\geq 0} \\\\\n",
    "\\text{discrete time}: & \n",
    "    x^{+} = f_d(x, b, k) = \\text{Runge-Kutta-4}\\ (f_c) \\ , & \n",
    "    k \\in \\mathbb{Z}_{\\geq 0}\n",
    "\\end{array}\n",
    "$\n",
    "\n",
    "$\n",
    "\\textbf{x} = (x(0), x(1), \\dots, x(N)) \\\\\n",
    "\\textbf{b} = (b(0), b(1), \\dots, b(N-1)) \\\\\n",
    "\\textbf{b} \\in \\mathbb{Z}^{N} \\cap \\mathbb{B}, \\; \\text{where} \\;\n",
    "\\mathbb{Z} = \\{0, 1\\}, \\;\n",
    "\\mathbb{B} = \n",
    "\\left\\{ b \\in [0, 1]^N \\mid \\begin{align} \n",
    "    & b(k) \\geq b(k-1) - b(k-2) \\\\\n",
    "    & b(k) \\geq b(k-1) - b(k-3) \n",
    "\\end{align} \\right\\}\n",
    "$\n",
    "\n",
    "$\n",
    "\\text{objetive function}:\n",
    "F(\\textbf{x}, \\textbf{b}) = \\frac{1}{2} \\sum\\limits^{N}_{k=0} (x(k) - x_{ref})^2\n",
    "$\n",
    "\n",
    "$\n",
    "\\textbf{MINLP}: \n",
    "\\min\\limits_{\\textbf{b}}\n",
    "F(\\textbf{x}, \\textbf{b}) \\\\\n",
    "\\text{such that} \\\\\n",
    "x^{+} = f_d(x, b, k) \\\\\n",
    "x(0) = x_0 \\\\\n",
    "\\textbf{b} \\in \\mathbb{Z}^{N} \\cap \\mathbb{B} \\\\\n",
    "N = 30, \\ x_0 = 0.8, \\ x_{ref} = 0.7\n",
    "$"
   ]
  },
  {
   "cell_type": "code",
   "execution_count": 20,
   "id": "2f7c1b37",
   "metadata": {},
   "outputs": [],
   "source": [
    "# # Constants\n",
    "# x_0 = 0.8\n",
    "# x_ref = 0.7\n",
    "# N = 30\n",
    "# h = 0.05\n",
    "\n",
    "# # Model\n",
    "# m = GEKKO()\n",
    "# m.time = np.arange(N + 1) * h\n",
    "\n",
    "# m.options.SOLVER=1  # APOPT is an MINLP solver\n",
    "\n",
    "# # optional solver settings with APOPT\n",
    "# m.solver_options = ['minlp_maximum_iterations 500', \\\n",
    "#                     # minlp iterations with integer solution\n",
    "#                     'minlp_max_iter_with_int_sol 100', \\\n",
    "#                     # treat minlp as nlp\n",
    "#                     'minlp_as_nlp 0', \\\n",
    "#                     # nlp sub-problem max iterations\n",
    "#                     'nlp_maximum_iterations 50', \\\n",
    "#                     # 1 = depth first, 2 = breadth first\n",
    "#                     'minlp_branch_method 1', \\\n",
    "#                     # maximum deviation from whole number\n",
    "#                     'minlp_integer_tol 0.05', \\\n",
    "#                     # covergence tolerance\n",
    "#                     'minlp_gap_tol 0.01']\n",
    "\n",
    "# # Manipulated variable\n",
    "# u = m.MV(value=0, integer=True, lb=0, ub=1, name='u')\n",
    "# u.STATUS = 1  # allow optimizer to change\n",
    "# u.DCOST = 0.0 # smooth out u movement\n",
    "\n",
    "# # Controlled Variable\n",
    "# x = m.CV(value=0.8, name='x')\n",
    "# x.STATUS = 1  # add the SP to the objective\n",
    "# m.options.CV_TYPE = 2 # squared error\n",
    "# x.SP = 0.7     # set point\n",
    "# x.TR_INIT = 0 # set point trajectory\n",
    "# # x.TAU = 5     # time constant of trajectory\n",
    "\n",
    "# # Process model\n",
    "# m.Equation(x.dt() == x**3 - u)\n",
    "\n",
    "# m.options.IMODE = 6 # control\n",
    "# m.solve(disp=False)\n",
    "\n",
    "# # get additional solution information\n",
    "# with open(m.path+'//results.json') as f:\n",
    "#     results = json.load(f)\n",
    "# results['obj'] = m.options.OBJFCNVAL\n",
    "    \n",
    "# show_results(results, 'x', 'int_u')"
   ]
  },
  {
   "cell_type": "code",
   "execution_count": 21,
   "id": "f1c4bbb7",
   "metadata": {},
   "outputs": [],
   "source": [
    "# m.solver_options = ['minlp_maximum_iterations 500', \\\n",
    "#                     'minlp_max_iter_with_int_sol 100', \\\n",
    "#                     'minlp_as_nlp 1', \\\n",
    "#                     'nlp_maximum_iterations 50', \\\n",
    "#                     'minlp_branch_method 1', \\\n",
    "#                     'minlp_integer_tol 0.05', \\\n",
    "#                     'minlp_gap_tol 0.01']\n",
    "# m.solve(disp=False)\n",
    "\n",
    "# with open(m.path+'//results.json') as f:\n",
    "#     results_nl = json.load(f)\n",
    "# results_nl['obj'] = m.options.OBJFCNVAL\n",
    "    \n",
    "# show_results(results_nl, 'x', 'int_u')"
   ]
  },
  {
   "cell_type": "code",
   "execution_count": 22,
   "id": "59b3bad6",
   "metadata": {},
   "outputs": [],
   "source": [
    "# m.solver_options = ['minlp_maximum_iterations 500', \\\n",
    "#                     'minlp_max_iter_with_int_sol 100', \\\n",
    "#                     'minlp_as_nlp 1', \\\n",
    "#                     'nlp_maximum_iterations 50', \\\n",
    "#                     'minlp_branch_method 1', \\\n",
    "#                     'minlp_integer_tol 0.05', \\\n",
    "#                     'minlp_gap_tol 0.01']\n",
    "# m.solve(disp=False)\n",
    "\n",
    "# with open(m.path+'//results.json') as f:\n",
    "#     results_nl = json.load(f)\n",
    "# results_nl['obj'] = m.options.OBJFCNVAL\n",
    "    \n",
    "# show_results(results_nl, 'x', 'int_u')"
   ]
  }
 ],
 "metadata": {
  "kernelspec": {
   "display_name": "Python 3 (ipykernel)",
   "language": "python",
   "name": "python3"
  },
  "language_info": {
   "codemirror_mode": {
    "name": "ipython",
    "version": 3
   },
   "file_extension": ".py",
   "mimetype": "text/x-python",
   "name": "python",
   "nbconvert_exporter": "python",
   "pygments_lexer": "ipython3",
   "version": "3.9.0"
  }
 },
 "nbformat": 4,
 "nbformat_minor": 5
}
