{
 "cells": [
  {
   "cell_type": "code",
   "execution_count": 1,
   "id": "69ffaecf",
   "metadata": {},
   "outputs": [],
   "source": [
    "# !pip install gekko\n",
    "from gekko import GEKKO\n",
    "import numpy as np\n",
    "import matplotlib.pyplot as plt"
   ]
  },
  {
   "cell_type": "markdown",
   "id": "ce7ec118",
   "metadata": {},
   "source": [
    "#### Solve Linear Equations"
   ]
  },
  {
   "cell_type": "markdown",
   "id": "9e4ff8d0",
   "metadata": {},
   "source": [
    "$\n",
    "3x + 2y = 1 \\\\\n",
    "x + 2y = 0\n",
    "$"
   ]
  },
  {
   "cell_type": "code",
   "execution_count": 7,
   "id": "f7bb3586",
   "metadata": {},
   "outputs": [
    {
     "name": "stdout",
     "output_type": "stream",
     "text": [
      "[0.5] [-0.25]\n"
     ]
    }
   ],
   "source": [
    "m = GEKKO()            # create GEKKO model\n",
    "x = m.Var()            # define new variable, default=0\n",
    "y = m.Var()            # define new variable, default=0\n",
    "m.Equations([3*x+2*y==1, x+2*y==0])  # equations\n",
    "m.solve(disp=False)    # solve\n",
    "print(x.value,y.value) # print solution"
   ]
  },
  {
   "cell_type": "markdown",
   "id": "ab377bbc",
   "metadata": {},
   "source": [
    "#### Nonlinear Programming Optimization"
   ]
  },
  {
   "cell_type": "markdown",
   "id": "c9b81dc5",
   "metadata": {},
   "source": [
    "$\n",
    "\\min x_1x_4(x_1 + x_2 + x_3) + x_3 \\\\\n",
    "\\text{s.t.} \\quad x_1x_2x_3x_4 \\geq 25 \\\\\n",
    "x_1^2 + x_2^2 + x_3^2 + x_4^2 = 40 \\\\\n",
    "0 \\leq x_1, x_1, x_1, x_1 \\leq 5 \\\\\n",
    "x_0 = (1, 5, 5, 1)\n",
    "$"
   ]
  },
  {
   "cell_type": "code",
   "execution_count": 8,
   "id": "939a1997",
   "metadata": {},
   "outputs": [],
   "source": [
    "m = GEKKO() # Initialize gekko\n",
    "# Use IPOPT solver (default)\n",
    "m.options.SOLVER = 3\n",
    "# Change to parallel linear solver\n",
    "m.solver_options = ['linear_solver ma97']\n",
    "# Initialize variables\n",
    "x1 = m.Var(value=1,lb=1,ub=5)\n",
    "x2 = m.Var(value=5,lb=1,ub=5)\n",
    "x3 = m.Var(value=5,lb=1,ub=5)\n",
    "x4 = m.Var(value=1,lb=1,ub=5)\n",
    "# Equations\n",
    "m.Equation(x1*x2*x3*x4>=25)\n",
    "m.Equation(x1**2+x2**2+x3**2+x4**2==40)\n",
    "m.Obj(x1*x4*(x1+x2+x3)+x3) # Objective\n",
    "m.options.IMODE = 3 # Steady state optimization\n",
    "m.solve(disp=False) # Solve"
   ]
  },
  {
   "cell_type": "code",
   "execution_count": 9,
   "id": "29800a1a",
   "metadata": {},
   "outputs": [
    {
     "name": "stdout",
     "output_type": "stream",
     "text": [
      "Results\n",
      "x1: [1.000000057]\n",
      "x2: [4.74299963]\n",
      "x3: [3.8211500283]\n",
      "x4: [1.3794081795]\n",
      "Objective: 17.014017127\n"
     ]
    }
   ],
   "source": [
    "print('Results')\n",
    "print('x1: ' + str(x1.value))\n",
    "print('x2: ' + str(x2.value))\n",
    "print('x3: ' + str(x3.value))\n",
    "print('x4: ' + str(x4.value))\n",
    "print('Objective: ' + str(m.options.objfcnval))"
   ]
  },
  {
   "cell_type": "markdown",
   "id": "5562989b",
   "metadata": {},
   "source": [
    "#### Mixed Integer Nonlinear Programming"
   ]
  },
  {
   "cell_type": "markdown",
   "id": "79c87761",
   "metadata": {},
   "source": [
    "$x_1, x_2$ are continuous, $x_3, x_4$ are integer"
   ]
  },
  {
   "cell_type": "code",
   "execution_count": 11,
   "id": "7114c40e",
   "metadata": {},
   "outputs": [],
   "source": [
    "m = GEKKO() # Initialize gekko\n",
    "m.options.SOLVER=1  # APOPT is an MINLP solver\n",
    "\n",
    "# optional solver settings with APOPT\n",
    "m.solver_options = ['minlp_maximum_iterations 500', \\\n",
    "                    # minlp iterations with integer solution\n",
    "                    'minlp_max_iter_with_int_sol 10', \\\n",
    "                    # treat minlp as nlp\n",
    "                    'minlp_as_nlp 0', \\\n",
    "                    # nlp sub-problem max iterations\n",
    "                    'nlp_maximum_iterations 50', \\\n",
    "                    # 1 = depth first, 2 = breadth first\n",
    "                    'minlp_branch_method 1', \\\n",
    "                    # maximum deviation from whole number\n",
    "                    'minlp_integer_tol 0.05', \\\n",
    "                    # covergence tolerance\n",
    "                    'minlp_gap_tol 0.01']\n",
    "\n",
    "# Initialize variables\n",
    "x1 = m.Var(value=1,lb=1,ub=5)\n",
    "x2 = m.Var(value=5,lb=1,ub=5)\n",
    "# Integer constraints for x3 and x4\n",
    "x3 = m.Var(value=5,lb=1,ub=5,integer=True)\n",
    "x4 = m.Var(value=1,lb=1,ub=5,integer=True)\n",
    "# Equations\n",
    "m.Equation(x1*x2*x3*x4>=25)\n",
    "m.Equation(x1**2+x2**2+x3**2+x4**2==40)\n",
    "m.Obj(x1*x4*(x1+x2+x3)+x3) # Objective\n",
    "m.solve(disp=False) # Solve"
   ]
  },
  {
   "cell_type": "code",
   "execution_count": 12,
   "id": "44bba08a",
   "metadata": {},
   "outputs": [
    {
     "name": "stdout",
     "output_type": "stream",
     "text": [
      "Results\n",
      "x1: [1.3589086474]\n",
      "x2: [4.5992789966]\n",
      "x3: [4.0]\n",
      "x4: [1.0]\n",
      "Objective: 17.532267301\n"
     ]
    }
   ],
   "source": [
    "print('Results')\n",
    "print('x1: ' + str(x1.value))\n",
    "print('x2: ' + str(x2.value))\n",
    "print('x3: ' + str(x3.value))\n",
    "print('x4: ' + str(x4.value))\n",
    "print('Objective: ' + str(m.options.objfcnval))"
   ]
  },
  {
   "cell_type": "markdown",
   "id": "b668b489",
   "metadata": {},
   "source": [
    "#### Optimal Control"
   ]
  },
  {
   "cell_type": "markdown",
   "id": "dafa9f43",
   "metadata": {},
   "source": [
    "$\n",
    "\\min_{u} \\frac{1}{2} \\int_0^2 x^2(T) dt \\\\\n",
    "\\text{s.t.} \\quad \\dot{x} = u \\\\\n",
    "x(0) = 1 \\\\\n",
    "-1 \\leq u(t) \\leq 1 \\\\\n",
    "$\n",
    "\n",
    "Equivalent form for GEKKO:\n",
    "\n",
    "$\n",
    "\\min_{u} x_2(t) \\\\\n",
    "\\text{s.t.} \\quad \\\\\n",
    "\\dot{x_1} = u \\\\\n",
    "\\dot{x_2} = \\frac{1}{2} x_1^2(t) \\\\\n",
    "x_1(0) = 1 \\\\\n",
    "x_2(0) = 0 \\\\\n",
    "T = 2 \\\\\n",
    "-1 \\leq u(t) \\leq 1 \\\\\n",
    "$"
   ]
  },
  {
   "cell_type": "code",
   "execution_count": 2,
   "id": "2191e516",
   "metadata": {},
   "outputs": [],
   "source": [
    "m = GEKKO() # initialize gekko\n",
    "nt = 101\n",
    "m.time = np.linspace(0,2,nt)\n",
    "\n",
    "# Variables\n",
    "x1 = m.Var(value=1)\n",
    "x2 = m.Var(value=0)\n",
    "u = m.Var(value=0,lb=-1,ub=1)\n",
    "p = np.zeros(nt) # mark final time point\n",
    "p[-1] = 1.0\n",
    "final = m.Param(value=p)\n",
    "\n",
    "# Equations\n",
    "m.Equation(x1.dt()==u)\n",
    "m.Equation(x2.dt()==0.5*x1**2)\n",
    "m.Obj(x2*final) # Objective function\n",
    "m.options.IMODE = 6 # optimal control mode\n",
    "m.solve(disp=False) # solve"
   ]
  },
  {
   "cell_type": "code",
   "execution_count": 15,
   "id": "f91cdf55",
   "metadata": {},
   "outputs": [
    {
     "data": {
      "text/plain": [
       "Text(0, 0.5, 'Value')"
      ]
     },
     "execution_count": 15,
     "metadata": {},
     "output_type": "execute_result"
    },
    {
     "data": {
      "image/png": "[encoded data removed]",
      "text/plain": [
       "<Figure size 432x288 with 1 Axes>"
      ]
     },
     "metadata": {
      "needs_background": "light"
     },
     "output_type": "display_data"
    }
   ],
   "source": [
    "plt.figure(1) # plot results\n",
    "plt.plot(m.time,x1.value,'k-',label=r'$x_1$')\n",
    "plt.plot(m.time,x2.value,'b-',label=r'$x_2$')\n",
    "plt.plot(m.time,u.value,'r--',label=r'$u$')\n",
    "plt.legend(loc='best')\n",
    "plt.xlabel('Time')\n",
    "plt.ylabel('Value')"
   ]
  },
  {
   "cell_type": "markdown",
   "id": "6719fc3f",
   "metadata": {},
   "source": [
    "#### Our Mixed-Integer Nonlinear Optimal Control Problem"
   ]
  },
  {
   "cell_type": "markdown",
   "id": "69182d8a",
   "metadata": {},
   "source": [
    "$\n",
    "\\begin{array}{rll}\n",
    "\\text{continuous time}: & \n",
    "    \\dot{x}(t) = f_c(x(t), b(t)) = x^3(t) - b(t) \\ , & \n",
    "    t \\in \\mathbb{R}_{\\geq 0} \\\\\n",
    "\\text{discrete time}: & \n",
    "    x^{+} = f_d(x, b, k) = \\text{Runge-Kutta-4}\\ (f_c) \\ , & \n",
    "    k \\in \\mathbb{Z}_{\\geq 0}\n",
    "\\end{array}\n",
    "$\n",
    "\n",
    "$\n",
    "\\textbf{x} = (x(0), x(1), \\dots, x(N)) \\\\\n",
    "\\textbf{b} = (b(0), b(1), \\dots, b(N-1)) \\\\\n",
    "\\textbf{b} \\in \\mathbb{Z}^{N} \\cap \\mathbb{B}, \\; \\text{where} \\;\n",
    "\\mathbb{Z} = \\{0, 1\\}, \\;\n",
    "\\mathbb{B} = \n",
    "\\left\\{ b \\in [0, 1]^N \\mid \\begin{align} \n",
    "    & b(k) \\geq b(k-1) - b(k-2) \\\\\n",
    "    & b(k) \\geq b(k-1) - b(k-2) \n",
    "\\end{align} \\right\\}\n",
    "$\n",
    "\n",
    "$\n",
    "\\text{objetive function}:\n",
    "F(\\textbf{x}, \\textbf{b}) = \\frac{1}{2} \\sum\\limits^{N}_{k=0} (x(k) - x_{ref})^2\n",
    "$\n",
    "\n",
    "$\n",
    "\\textbf{MINLP}: \n",
    "\\min\\limits_{\\textbf{x}, \\textbf{b}}\n",
    "F(\\textbf{x}, \\textbf{b}) \\\\\n",
    "\\text{such that} \\\\\n",
    "x^{+} = f_d(x, b, k) \\\\\n",
    "x(0) = x_0 \\\\\n",
    "\\textbf{b} \\in \\mathbb{Z}^{N} \\cap \\mathbb{B} \\\\\n",
    "N = 30, \\ x_0 = 0.8, \\ x_{ref} = 0.7\n",
    "$"
   ]
  },
  {
   "cell_type": "code",
   "execution_count": null,
   "id": "e70faac7",
   "metadata": {},
   "outputs": [],
   "source": []
  }
 ],
 "metadata": {
  "kernelspec": {
   "display_name": "Python 3 (ipykernel)",
   "language": "python",
   "name": "python3"
  },
  "language_info": {
   "codemirror_mode": {
    "name": "ipython",
    "version": 3
   },
   "file_extension": ".py",
   "mimetype": "text/x-python",
   "name": "python",
   "nbconvert_exporter": "python",
   "pygments_lexer": "ipython3",
   "version": "3.9.0"
  }
 },
 "nbformat": 4,
 "nbformat_minor": 5
}
